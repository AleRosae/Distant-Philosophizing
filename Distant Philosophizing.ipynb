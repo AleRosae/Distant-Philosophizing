{
  "nbformat": 4,
  "nbformat_minor": 0,
  "metadata": {
    "colab": {
      "name": "Digital text.ipynb",
      "provenance": []
    },
    "kernelspec": {
      "name": "python3",
      "display_name": "Python 3"
    },
    "language_info": {
      "name": "python"
    }
  },
  "cells": [
    {
      "cell_type": "markdown",
      "metadata": {
        "id": "x0PioI_9G9Ux"
      },
      "source": [
        "First things first, we install and import all the packages that we are going to need later."
      ]
    },
    {
      "cell_type": "code",
      "metadata": {
        "id": "S0FwPxql9ZMv"
      },
      "source": [
        "%%capture\n",
        "!pip install nltk\n",
        "!pip install numpy\n",
        "!pip install scipy\n",
        "!pip install --upgrade gensim\n",
        "!pip install wordcloud\n",
        "!pip install pdfminer.six\n",
        "!pip install sklearn\n"
      ],
      "execution_count": null,
      "outputs": []
    },
    {
      "cell_type": "code",
      "metadata": {
        "id": "32g_EcPJ9me3"
      },
      "source": [
        "%%capture\n",
        "import pandas as pd\n",
        "import os\n",
        "import re\n",
        "from wordcloud import WordCloud\n",
        "import gensim\n",
        "from gensim.utils import simple_preprocess\n",
        "import nltk\n",
        "nltk.download('stopwords')\n",
        "from nltk.corpus import stopwords\n",
        "import gensim.corpora as corpora\n",
        "from gensim import models\n",
        "from pdfminer.pdfinterp import PDFResourceManager, PDFPageInterpreter\n",
        "from pdfminer.pdfpage import PDFPage\n",
        "from pdfminer.converter import XMLConverter, HTMLConverter, TextConverter\n",
        "from pdfminer.layout import LAParams\n",
        "import sys\n",
        "import io\n",
        "from pathlib import Path\n",
        "from sklearn.feature_extraction.text import TfidfVectorizer\n",
        "import glob\n",
        "import pickle \n",
        "import numpy as np\n",
        "import matplotlib.pyplot as plt\n",
        "import six"
      ],
      "execution_count": null,
      "outputs": []
    },
    {
      "cell_type": "markdown",
      "metadata": {
        "id": "yZzg3-moHFN1"
      },
      "source": [
        "Sometimes it is not possible to retrieve a .txt of a literary text. The function below convert a .pdf in a .txt (you may lose some formatting info in the process, but it should not be an issue for our task)"
      ]
    },
    {
      "cell_type": "code",
      "metadata": {
        "id": "cwzShrtF-ExJ"
      },
      "source": [
        "def pdfparser(data):\n",
        "    fp = open(\"filepath\", 'rb')\n",
        "    rsrcmgr = PDFResourceManager()\n",
        "    retstr = io.StringIO()\n",
        "    codec = 'utf-8'\n",
        "    laparams = LAParams()\n",
        "    device = TextConverter(rsrcmgr, retstr, codec=codec, laparams=laparams)\n",
        "    # Create a PDF interpreter object.\n",
        "    interpreter = PDFPageInterpreter(rsrcmgr, device)\n",
        "    # Process each page contained in the document.\n",
        "\n",
        "    for page in PDFPage.get_pages(fp):\n",
        "        interpreter.process_page(page)\n",
        "        data =  retstr.getvalue()\n",
        "\n",
        "    print(data)\n",
        "    f = open(\"outputname.txt\", \"a\")\n",
        "    f.write(data)\n",
        "    f.close()\n",
        "if __name__ == '__main__':\n",
        "    pdfparser(sys.argv[1])  "
      ],
      "execution_count": null,
      "outputs": []
    },
    {
      "cell_type": "markdown",
      "metadata": {
        "id": "t3FyEfiFHh1C"
      },
      "source": [
        "Here we transform the .txt files of the authors we are interested in, into a Python-readable form i.e. string. We do so for all the authors and then we merge the final strings in larger cluster (in this case, ancient, modern and contemporary philosophy). \n",
        "Since the raw text is not pretty useful for use, we use nltk to do some basic cleaning. The function below tokenizes the raw text and get rid of some custom stopwords (e.g. the instances of the name \"Socrates\", which appears almost on every page of any Plato's work).\n",
        "We use Wordcloud to have a first glance of the textual information that we currently have."
      ]
    },
    {
      "cell_type": "code",
      "metadata": {
        "id": "lQJIhmpS-3Cj"
      },
      "source": [
        "Plato = [\"/content/Plato Fedone.txt\", \"/content/Plato Teeteto.txt\", \"/content/plato menone.txt\"]\n",
        "Aristotele = [\"/content/aristotele categorie.txt\"]\n",
        "\n",
        "Descartes = [\"/content/descartes discorso sul metodo.txt\", \"/content/descartes principi di filosofia.txt\"]\n",
        "Hume = [\"/content/hume trattato sulla natura umana.txt\"]\n",
        "Kant = [\"/content/kant critica ragion pura.txt\", \"/content/kant prolegomeni.txt\"]\n",
        "\n",
        "Feldman = [\"/content/Earl Conee, Richard Feldman - Evidentialism_ Essays in Epistemology.txt\"]\n",
        "Williamson = [\"/content/Timothy Williamson - Knowledge and Its Limits.txt\", \"/content/Timothy Williamson - Tetralogue_ I'm Right, You're Wrong.txt\"]\n",
        "Sosa = [\"/content/Ernest Sosa - A Virtue Epistemology I.txt\", \"/content/Ernest Sosa - A Virtue Epistemology II.txt\", \"/content/Ernest Sosa - Knowledge in Perspective.txt\", \"/content/Laurence BonJour, Ernest Sosa - Epistemic Justification.txt\"]\n",
        "\n",
        "Plato_works = \"\"\n",
        "for text in Plato:\n",
        "  f = open(text, \"r\")\n",
        "  data = f.read()\n",
        "  Plato_works = Plato_works + data\n",
        "\n",
        "Kant_works = \"\"\n",
        "for text in Kant:\n",
        "  f = open(text, \"r\")\n",
        "  data = f.read()\n",
        "  Kant_works = Kant_works + data\n",
        "\n",
        "Williamson_works = \"\"\n",
        "for text in Williamson:\n",
        "  f = open(text, \"r\")\n",
        "  data = f.read()\n",
        "  Williamson_works = Williamson_works + data\n",
        "\n",
        "Sosa_works = \"\"\n",
        "for text in Sosa:\n",
        "  f = open(text, \"r\")\n",
        "  data = f.read()\n",
        "  Sosa_works = Sosa_works + data\n",
        "\n",
        "Feldman_works = \"\"\n",
        "for text in Feldman:\n",
        "  f = open(text, \"r\")\n",
        "  data = f.read()\n",
        "  Feldman_works = Feldman_works + data\n",
        "\n",
        "Aritotele_works = \"\"\n",
        "for text in Aristotele:\n",
        "  f = open(text, \"r\")\n",
        "  data = f.read()\n",
        "  Aritotele_works = Aritotele_works + data\n",
        "\n",
        "Descartes_works = \"\"\n",
        "for text in Descartes:\n",
        "  f = open(text, \"r\")\n",
        "  data = f.read()\n",
        "  Descartes_works = Descartes_works + data\n",
        "\n",
        "Hume_works = \"\"\n",
        "for text in Hume:\n",
        "  f = open(text, \"r\")\n",
        "  data = f.read()\n",
        "  Hume_works = Hume_works + data\n",
        "\n",
        "Antichità = Plato_works + Aritotele_works\n",
        "Modernità = Descartes_works + Kant_works + Hume_works\n",
        "Oggi = Williamson_works + Sosa_works + Feldman_works"
      ],
      "execution_count": null,
      "outputs": []
    },
    {
      "cell_type": "code",
      "metadata": {
        "id": "zZV_7ftMjwvK"
      },
      "source": [
        "def clear_text(text):\n",
        "  stopwords = nltk.corpus.stopwords.words(\"english\")\n",
        "  stopwords.extend(['theodorus', 'simmias', 'cebes', 'protagoras', 'phaedo', 'anytus', 'roxana', 'bob', 'kp', '_i_', 'richard', 'boo', 'zac', 'tm', 'htm', 'SOCRATES:', 'socrates', 'theaetetus', 'meno', 'bob:', 'sarah','from', 'project', 're', 'edu', 'use', 'gutenberg', 'EBook', 'eBook', 'www', 'org', 'one', 'p', 'C', '1', 'c', 'www.gutenberg.org', 'E', 'F', \"e\", \"f\", 'ii', 'II'])\n",
        "  tokenizer = nltk.RegexpTokenizer(r\"\\w+\")\n",
        "  words = tokenizer.tokenize(text)\n",
        "  clean_text = [w for w in words if w.lower() not in stopwords]\n",
        "  return clean_text\n"
      ],
      "execution_count": null,
      "outputs": []
    },
    {
      "cell_type": "code",
      "metadata": {
        "id": "d4L-8tjTlnab"
      },
      "source": [
        "def word_cloud(corpus, output):\n",
        "  wordcloud = WordCloud(width=1920, height=1080, background_color=\"white\", max_words=5000, contour_width=3, contour_color='steelblue')\n",
        "  wordcloud.generate(corpus)\n",
        "  wordcloud.to_image()\n",
        "  wordcloud.to_file(output + '_wordcloud.png')"
      ],
      "execution_count": null,
      "outputs": []
    },
    {
      "cell_type": "markdown",
      "metadata": {
        "id": "EGxIzoFO0Vhq"
      },
      "source": [
        "Use nltk for processing the texts, then use wordcloud to plot the most frequent words. For a more accurate result we also create a table with the 10 most common words for each author, including their raw frequencies."
      ]
    },
    {
      "cell_type": "code",
      "metadata": {
        "id": "7Kn-fQU_lWSK"
      },
      "source": [
        "Antichità = \" \".join(clear_text(Antichità))\n",
        "Modernità = \" \".join(clear_text(Modernità))\n",
        "Oggi = \" \".join(clear_text(Oggi))"
      ],
      "execution_count": null,
      "outputs": []
    },
    {
      "cell_type": "code",
      "metadata": {
        "id": "4LM330LCvQbe"
      },
      "source": [
        "word_cloud(Antichità, \"antichità\")\n",
        "word_cloud(Modernità, \"modernità\")\n",
        "word_cloud(Oggi, \"oggi\")"
      ],
      "execution_count": null,
      "outputs": []
    },
    {
      "cell_type": "code",
      "metadata": {
        "id": "1GOxUzFz0GlO"
      },
      "source": [
        "def get_common_words (text, number):\n",
        "  frequency = nltk.FreqDist(clear_text(text))\n",
        "  return frequency.most_common(number)"
      ],
      "execution_count": null,
      "outputs": []
    },
    {
      "cell_type": "code",
      "metadata": {
        "id": "ylt8ZSEj1b8v",
        "colab": {
          "base_uri": "https://localhost:8080/",
          "height": 120
        },
        "outputId": "f182fad4-da12-4505-dfcf-e5b7268638bf"
      },
      "source": [
        "lista_autori = [get_common_words(Plato_works, 10), get_common_words(Aritotele_works, 10), get_common_words(Descartes_works, 10), get_common_words(Hume_works, 10), get_common_words(Kant_works, 10), get_common_words(Sosa_works, 10), get_common_words(Williamson_works, 10), get_common_words(Feldman_works, 10)]\n",
        "data = dict()\n",
        "data[\"Plato\"] = lista_autori[0]\n",
        "data[\"Aristotle\"] = lista_autori[1]\n",
        "data[\"Descartes\"] = lista_autori[2]\n",
        "data[\"Hume\"] = lista_autori[3]\n",
        "data[\"Kant\"] = lista_autori[4]\n",
        "data[\"Sosa\"] = lista_autori[5]\n",
        "data[\"Williamson\"] = lista_autori[6]\n",
        "data[\"Feldman\"] = lista_autori[7]\n",
        "\n",
        "df = pd.DataFrame(data)\n",
        "\n",
        "df.to_excel(\"authors_commonwords.xlsx\", index=False)\n",
        "\n",
        "'''def render_mpl_table(data, col_width=3.0, row_height=0.625, font_size=14,\n",
        "                     header_color='#40466e', row_colors=['#f1f1f2', 'w'], edge_color='w',\n",
        "                     bbox=[0, 0, 1, 1], header_columns=0,\n",
        "                     ax=None, **kwargs):\n",
        "    if ax is None:\n",
        "        size = (np.array(data.shape[::-1]) + np.array([0, 1])) * np.array([col_width, row_height])\n",
        "        fig, ax = plt.subplots(figsize=size)\n",
        "        ax.axis('off')\n",
        "\n",
        "    mpl_table = ax.table(cellText=data.values, bbox=bbox, colLabels=data.columns, **kwargs)\n",
        "\n",
        "    mpl_table.auto_set_font_size(False)\n",
        "    mpl_table.set_fontsize(font_size)\n",
        "\n",
        "    for k, cell in  six.iteritems(mpl_table._cells):\n",
        "        cell.set_edgecolor(edge_color)\n",
        "        if k[0] == 0 or k[1] < header_columns:\n",
        "            cell.set_text_props(weight='bold', color='w')\n",
        "            cell.set_facecolor(header_color)\n",
        "        else:\n",
        "            cell.set_facecolor(row_colors[k[0]%len(row_colors) ])\n",
        "    return ax\n",
        "\n",
        "render_mpl_table(df, header_columns=0, col_width=4.0)'''\n"
      ],
      "execution_count": null,
      "outputs": [
        {
          "output_type": "execute_result",
          "data": {
            "application/vnd.google.colaboratory.intrinsic+json": {
              "type": "string"
            },
            "text/plain": [
              "\"def render_mpl_table(data, col_width=3.0, row_height=0.625, font_size=14,\\n                     header_color='#40466e', row_colors=['#f1f1f2', 'w'], edge_color='w',\\n                     bbox=[0, 0, 1, 1], header_columns=0,\\n                     ax=None, **kwargs):\\n    if ax is None:\\n        size = (np.array(data.shape[::-1]) + np.array([0, 1])) * np.array([col_width, row_height])\\n        fig, ax = plt.subplots(figsize=size)\\n        ax.axis('off')\\n\\n    mpl_table = ax.table(cellText=data.values, bbox=bbox, colLabels=data.columns, **kwargs)\\n\\n    mpl_table.auto_set_font_size(False)\\n    mpl_table.set_fontsize(font_size)\\n\\n    for k, cell in  six.iteritems(mpl_table._cells):\\n        cell.set_edgecolor(edge_color)\\n        if k[0] == 0 or k[1] < header_columns:\\n            cell.set_text_props(weight='bold', color='w')\\n            cell.set_facecolor(header_color)\\n        else:\\n            cell.set_facecolor(row_colors[k[0]%len(row_colors) ])\\n    return ax\\n\\nrender_mpl_table(df, header_columns=0, col_width=4.0)\""
            ]
          },
          "metadata": {
            "tags": []
          },
          "execution_count": 8
        }
      ]
    },
    {
      "cell_type": "code",
      "metadata": {
        "id": "O-R4nPA4nInj"
      },
      "source": [
        "lista_peirodi = [get_common_words(Antichità, 15), get_common_words(Modernità, 15), get_common_words(Oggi, 15)]\n",
        "data = dict()\n",
        "data[\"Ancient\"] = lista_peirodi[0]\n",
        "data[\"Modern\"] = lista_peirodi[1]\n",
        "data[\"Contemporary\"] = lista_peirodi[2]\n",
        "\n",
        "\n",
        "df = pd.DataFrame(data)\n",
        "\n",
        "\n",
        "def render_mpl_table(data, col_width=3.0, row_height=0.625, font_size=14,\n",
        "                     header_color='#40466e', row_colors=['#f1f1f2', 'w'], edge_color='w',\n",
        "                     bbox=[0, 0, 1, 1], header_columns=0,\n",
        "                     ax=None, **kwargs):\n",
        "    if ax is None:\n",
        "        size = (np.array(data.shape[::-1]) + np.array([0, 1])) * np.array([col_width, row_height])\n",
        "        fig, ax = plt.subplots(figsize=size)\n",
        "        ax.axis('off')\n",
        "\n",
        "    mpl_table = ax.table(cellText=data.values, bbox=bbox, colLabels=data.columns, **kwargs)\n",
        "\n",
        "    mpl_table.auto_set_font_size(False)\n",
        "    mpl_table.set_fontsize(font_size)\n",
        "\n",
        "    for k, cell in  six.iteritems(mpl_table._cells):\n",
        "        cell.set_edgecolor(edge_color)\n",
        "        if k[0] == 0 or k[1] < header_columns:\n",
        "            cell.set_text_props(weight='bold', color='w')\n",
        "            cell.set_facecolor(header_color)\n",
        "        else:\n",
        "            cell.set_facecolor(row_colors[k[0]%len(row_colors) ])\n",
        "    return ax\n",
        "\n",
        "render_mpl_table(df, header_columns=0, col_width=4.0)\n"
      ],
      "execution_count": null,
      "outputs": []
    },
    {
      "cell_type": "markdown",
      "metadata": {
        "id": "wAaG7UIoI6J3"
      },
      "source": [
        "The raw frequencies, however, are not that meaningful. For a better result, we perform the same task using TF-IDF. "
      ]
    },
    {
      "cell_type": "code",
      "metadata": {
        "id": "0eVsvbFt6OJi"
      },
      "source": [
        "all_txt_files =[\"/content/Plato Fedone.txt\", \"/content/Plato Teeteto.txt\", \"/content/plato menone.txt\", \"/content/aristotele categorie.txt\", \"/content/descartes discorso sul metodo.txt\", \"/content/descartes principi di filosofia.txt\", \"/content/hume trattato sulla natura umana.txt\", \"/content/kant critica ragion pura.txt\", \"/content/kant prolegomeni.txt\", \"/content/Timothy Williamson - Knowledge and Its Limits.txt\", \"/content/Timothy Williamson - Tetralogue_ I'm Right, You're Wrong.txt\", \"/content/Ernest Sosa - A Virtue Epistemology I.txt\", \"/content/Ernest Sosa - A Virtue Epistemology II.txt\", \"/content/Ernest Sosa - Knowledge in Perspective.txt\", \"/content/Laurence BonJour, Ernest Sosa - Epistemic Justification.txt\", \"/content/Earl Conee, Richard Feldman - Evidentialism_ Essays in Epistemology.txt\"]\n",
        "n_files = len(all_txt_files)\n",
        "all_docs = [Plato_works, Aritotele_works, Descartes_works, Hume_works, Kant_works, Sosa_works, Williamson_works, Feldman_works]"
      ],
      "execution_count": null,
      "outputs": []
    },
    {
      "cell_type": "code",
      "metadata": {
        "id": "etekM6iZ-lZm",
        "colab": {
          "base_uri": "https://localhost:8080/"
        },
        "outputId": "8f9633a9-f933-4857-d7d9-7a2a325e9d6c"
      },
      "source": [
        "stopwords = nltk.corpus.stopwords.words(\"english\")\n",
        "stopwords.extend(['gorgias', 'license', 'feldman', '2010', 'theodorus', 'simmias', 'cebes', 'protagoras', 'phaedo', 'anytus', 'roxana', 'bob', 'kp', '_i_', 'richard', 'boo', 'zac', 'tm', 'htm', 'SOCRATES:', 'socrates', 'theaetetus', 'meno', 'bob:', 'sarah','from', 'project', 're', 'edu', 'use', 'gutenberg', 'EBook', 'eBook', 'www', 'org', 'one', 'p', 'C', '1', 'c', 'www.gutenberg.org', 'E', 'F', \"e\", \"f\", 'ii', 'II'])\n",
        "vectorizer = TfidfVectorizer(max_df=.65, min_df=1, stop_words=stopwords, use_idf=True, norm=None)\n",
        "transformed_documents = vectorizer.fit_transform(all_docs)\n",
        "\n",
        "transformed_documents_as_array = transformed_documents.toarray()\n",
        "# use this line of code to verify that the numpy array represents the same number of documents that we have in the file list\n"
      ],
      "execution_count": null,
      "outputs": [
        {
          "output_type": "stream",
          "text": [
            "/usr/local/lib/python3.7/dist-packages/sklearn/feature_extraction/text.py:385: UserWarning: Your stop_words may be inconsistent with your preprocessing. Tokenizing the stop words generated tokens ['ebook'] not in stop_words.\n",
            "  'stop_words.' % sorted(inconsistent))\n"
          ],
          "name": "stderr"
        }
      ]
    },
    {
      "cell_type": "code",
      "metadata": {
        "id": "mpHPG_IS_SBI"
      },
      "source": [
        "# construct a list of output file paths using the previous list of text files the relative path for tf_idf_output\n",
        "output_filenames = [\"Plato.csv\", \"Aristotle.csv\", \"Descartes.csv\", \"Hume.csv\", \"Kant.csv\", \"Sosa.csv\", \"Williamson.csv\", \"Feldman.csv\"]\n",
        "\n",
        "# loop each item in transformed_documents_as_array, using enumerate to keep track of the current position\n",
        "for counter, doc in enumerate(transformed_documents_as_array):\n",
        "    # construct a dataframe\n",
        "    tf_idf_tuples = list(zip(vectorizer.get_feature_names(), doc))\n",
        "    one_doc_as_df = pd.DataFrame.from_records(tf_idf_tuples, columns=['term', 'score']).sort_values(by='score', ascending=False).reset_index(drop=True)\n",
        "\n",
        "    # output to a csv using the enumerated value for the filename\n",
        "    one_doc_as_df.to_csv(output_filenames[counter])"
      ],
      "execution_count": null,
      "outputs": []
    },
    {
      "cell_type": "code",
      "metadata": {
        "colab": {
          "base_uri": "https://localhost:8080/",
          "height": 120
        },
        "id": "E7Jef3YN_o4P",
        "outputId": "bfdcd7e1-2c94-41dc-ac29-8df5b47e056c"
      },
      "source": [
        "lista_autori_tfidf = [\"Plato.csv\", \"Aristotle.csv\", \"Descartes.csv\", \"Hume.csv\", \"Kant.csv\", \"Sosa.csv\", \"Williamson.csv\", \"Feldman.csv\"]\n",
        "data_tfidf = dict()\n",
        "\n",
        "for author in lista_autori_tfidf:\n",
        "  df = pd.read_csv(author)\n",
        "  df = df.head(10)\n",
        "  value_list = df[\"term\"].tolist()\n",
        "  score_list = df[\"score\"].tolist()\n",
        "  tmp =[]\n",
        "  for i, x in enumerate(value_list):\n",
        "    tmp.append((x, round(score_list[i], 3)))\n",
        "  author = author[:-4]\n",
        "  data_tfidf[author] = tmp\n",
        "\n",
        "df = pd.DataFrame(data_tfidf)\n",
        "df.to_excel(\"tfidf_table.xlsx\", index=False)\n",
        "\n",
        "'''def render_mpl_table(data, col_width=3.0, row_height=0.625, font_size=14,\n",
        "                     header_color='#40466e', row_colors=['#f1f1f2', 'w'], edge_color='w',\n",
        "                     bbox=[0, 0, 1, 1], header_columns=0,\n",
        "                     ax=None, **kwargs):\n",
        "    if ax is None:\n",
        "        size = (np.array(data.shape[::-1]) + np.array([0, 1])) * np.array([col_width, row_height])\n",
        "        fig, ax = plt.subplots(figsize=size)\n",
        "        ax.axis('off')\n",
        "\n",
        "    mpl_table = ax.table(cellText=data.values, bbox=bbox, colLabels=data.columns, **kwargs)\n",
        "\n",
        "    mpl_table.auto_set_font_size(False)\n",
        "    mpl_table.set_fontsize(font_size)\n",
        "\n",
        "    for k, cell in  six.iteritems(mpl_table._cells):\n",
        "        cell.set_edgecolor(edge_color)\n",
        "        if k[0] == 0 or k[1] < header_columns:\n",
        "            cell.set_text_props(weight='bold', color='w')\n",
        "            cell.set_facecolor(header_color)\n",
        "        else:\n",
        "            cell.set_facecolor(row_colors[k[0]%len(row_colors) ])\n",
        "    return ax\n",
        "\n",
        "render_mpl_table(df, header_columns=0, col_width=4.0)'''"
      ],
      "execution_count": null,
      "outputs": [
        {
          "output_type": "execute_result",
          "data": {
            "application/vnd.google.colaboratory.intrinsic+json": {
              "type": "string"
            },
            "text/plain": [
              "\"def render_mpl_table(data, col_width=3.0, row_height=0.625, font_size=14,\\n                     header_color='#40466e', row_colors=['#f1f1f2', 'w'], edge_color='w',\\n                     bbox=[0, 0, 1, 1], header_columns=0,\\n                     ax=None, **kwargs):\\n    if ax is None:\\n        size = (np.array(data.shape[::-1]) + np.array([0, 1])) * np.array([col_width, row_height])\\n        fig, ax = plt.subplots(figsize=size)\\n        ax.axis('off')\\n\\n    mpl_table = ax.table(cellText=data.values, bbox=bbox, colLabels=data.columns, **kwargs)\\n\\n    mpl_table.auto_set_font_size(False)\\n    mpl_table.set_fontsize(font_size)\\n\\n    for k, cell in  six.iteritems(mpl_table._cells):\\n        cell.set_edgecolor(edge_color)\\n        if k[0] == 0 or k[1] < header_columns:\\n            cell.set_text_props(weight='bold', color='w')\\n            cell.set_facecolor(header_color)\\n        else:\\n            cell.set_facecolor(row_colors[k[0]%len(row_colors) ])\\n    return ax\\n\\nrender_mpl_table(df, header_columns=0, col_width=4.0)\""
            ]
          },
          "metadata": {
            "tags": []
          },
          "execution_count": 16
        }
      ]
    },
    {
      "cell_type": "code",
      "metadata": {
        "id": "v5W2w_JkEsFS"
      },
      "source": [
        "antichità = [\"/content/Plato Fedone.txt\", \"/content/Plato Teeteto.txt\", \"/content/plato menone.txt\", \"/content/aristotele categorie.txt\"]\n",
        "modernità = [\"/content/descartes discorso sul metodo.txt\", \"/content/descartes principi di filosofia.txt\", \"/content/hume trattato sulla natura umana.txt\", \"/content/kant critica ragion pura.txt\", \"/content/kant prolegomeni.txt\"]\n",
        "oggi = [\"/content/Timothy Williamson - Knowledge and Its Limits.txt\", \"/content/Timothy Williamson - Tetralogue_ I'm Right, You're Wrong.txt\", \"/content/Ernest Sosa - A Virtue Epistemology I.txt\", \"/content/Ernest Sosa - A Virtue Epistemology II.txt\", \"/content/Ernest Sosa - Knowledge in Perspective.txt\", \"/content/Laurence BonJour, Ernest Sosa - Epistemic Justification.txt\", \"/content/Earl Conee, Richard Feldman - Evidentialism_ Essays in Epistemology.txt\"]\n",
        "\n",
        "Corpus = []\n",
        "for text in antichità:\n",
        "  f = open(text, \"r\")\n",
        "  data = f.read()\n",
        "  Corpus.append(data)"
      ],
      "execution_count": null,
      "outputs": []
    },
    {
      "cell_type": "code",
      "metadata": {
        "id": "N9aj0K_eOjFT"
      },
      "source": [
        "from collections import defaultdict\n",
        "# Create a set of frequent words\n",
        "stopwords = nltk.corpus.stopwords.words(\"english\")\n",
        "stopwords.extend(['us','may', ',', '.', 'theodorus', 'simmias', 'cebes', 'protagoras', 'phaedo', 'anytus', 'roxana', 'bob', 'kp', '_i_', 'richard', 'boo', 'zac', 'tm', 'htm', 'socrates:', 'socrates', 'theaetetus:', 'meno:', 'bob:', 'sarah','from', 'project', 're', 'edu', 'use', 'gutenberg', 'gutenberg-tm', 'EBook', 'eBook', 'www', 'org', 'one', 'p', 'C', '1', 'c', 'www.gutenberg.org', 'E', 'F', \"e\", \"f\", 'ii', 'II'])\n",
        "# Lowercase each document, split it by white space and filter out stopwords\n",
        "texts = [[word for word in document.lower().split() if word not in stopwords]\n",
        "         for document in Corpus]\n",
        "\n",
        "# Count word frequencies\n",
        "frequency = defaultdict(int)\n",
        "for text in texts:\n",
        "    for token in text:\n",
        "        frequency[token] += 1\n",
        "\n",
        "# Only keep words that appear more than once\n",
        "processed_corpus = [[token for token in text if frequency[token] > 1] for text in texts]\n"
      ],
      "execution_count": null,
      "outputs": []
    },
    {
      "cell_type": "code",
      "metadata": {
        "id": "JFxVQYdJRWyx"
      },
      "source": [
        "dictionary = corpora.Dictionary(processed_corpus)"
      ],
      "execution_count": null,
      "outputs": []
    },
    {
      "cell_type": "code",
      "metadata": {
        "id": "-HPPg5EyUQRU"
      },
      "source": [
        "dictionary.token2id\n",
        "bow_corpus = [dictionary.doc2bow(text) for text in processed_corpus]\n"
      ],
      "execution_count": null,
      "outputs": []
    },
    {
      "cell_type": "code",
      "metadata": {
        "id": "dIf05OhtVy5_"
      },
      "source": [
        "# number of topics\n",
        "num_topics = 7\n",
        "# Build LDA model\n",
        "lda_model = gensim.models.LdaMulticore(corpus=bow_corpus,\n",
        "                                       id2word=dictionary,\n",
        "                                       num_topics=num_topics)"
      ],
      "execution_count": null,
      "outputs": []
    },
    {
      "cell_type": "code",
      "metadata": {
        "id": "jIdx0NsXWL7G"
      },
      "source": [
        "# Print the Keyword in the 10 topics\n",
        "doc_lda = lda_model[bow_corpus]"
      ],
      "execution_count": null,
      "outputs": []
    },
    {
      "cell_type": "code",
      "metadata": {
        "id": "-1dVdAVMPtC0",
        "colab": {
          "base_uri": "https://localhost:8080/"
        },
        "outputId": "2f9b8de8-43a2-4890-8fbc-d917c4f8330a"
      },
      "source": [
        "!pip install --upgrade pandas==1.2\n",
        "#we need a different version of pandas for this task"
      ],
      "execution_count": null,
      "outputs": [
        {
          "output_type": "stream",
          "text": [
            "Requirement already up-to-date: pandas==1.2 in /usr/local/lib/python3.7/dist-packages (1.2.0)\n",
            "Requirement already satisfied, skipping upgrade: pytz>=2017.3 in /usr/local/lib/python3.7/dist-packages (from pandas==1.2) (2018.9)\n",
            "Requirement already satisfied, skipping upgrade: python-dateutil>=2.7.3 in /usr/local/lib/python3.7/dist-packages (from pandas==1.2) (2.8.1)\n",
            "Requirement already satisfied, skipping upgrade: numpy>=1.16.5 in /usr/local/lib/python3.7/dist-packages (from pandas==1.2) (1.21.0)\n",
            "Requirement already satisfied, skipping upgrade: six>=1.5 in /usr/local/lib/python3.7/dist-packages (from python-dateutil>=2.7.3->pandas==1.2) (1.15.0)\n"
          ],
          "name": "stdout"
        }
      ]
    },
    {
      "cell_type": "code",
      "metadata": {
        "id": "ccaBDxnfppx-"
      },
      "source": [
        "#we need the following to plot the results\n",
        "%%capture\n",
        "!pip install pyldavis\n",
        "import pyLDAvis\n",
        "import pyLDAvis.gensim_models"
      ],
      "execution_count": null,
      "outputs": []
    },
    {
      "cell_type": "code",
      "metadata": {
        "id": "kW08zCLEWWZd",
        "colab": {
          "base_uri": "https://localhost:8080/",
          "height": 861
        },
        "outputId": "dde6b5f2-9919-4578-d8ae-841f1859e085"
      },
      "source": [
        "# Visualize the topics\n",
        "pyLDAvis.enable_notebook()\n",
        "LDAvis_data_filepath = './antichità_'+str(num_topics)\n",
        "# # this is a bit time consuming - make the if statement True\n",
        "# # if you want to execute visualization prep yourself\n",
        "if 1 == 1:\n",
        "    LDAvis_prepared = pyLDAvis.gensim_models.prepare(lda_model, bow_corpus, dictionary)\n",
        "    with open(LDAvis_data_filepath, 'wb') as f:\n",
        "      pickle.dump(LDAvis_prepared, f)\n",
        "    # load the pre-prepared pyLDAvis data from disk\n",
        "    with open(LDAvis_data_filepath, 'rb') as f:\n",
        "      LDAvis_prepared = pickle.load(f)\n",
        "pyLDAvis.save_html(LDAvis_prepared, './antichità_'+ str(num_topics) +'.html')\n",
        "LDAvis_prepared"
      ],
      "execution_count": null,
      "outputs": [
        {
          "output_type": "execute_result",
          "data": {
            "text/html": [
              "\n",
              "<link rel=\"stylesheet\" type=\"text/css\" href=\"https://cdn.jsdelivr.net/gh/bmabey/pyLDAvis@3.3.1/pyLDAvis/js/ldavis.v1.0.0.css\">\n",
              "\n",
              "\n",
              "<div id=\"ldavis_el3521400693786478882326836621\"></div>\n",
              "<script type=\"text/javascript\">\n",
              "\n",
              "var ldavis_el3521400693786478882326836621_data = {\"mdsDat\": {\"x\": [-0.002288317584928958, -0.003474415896978707, 0.0040598928130549305, -0.0020049016474690206, 0.0017762806103941862, 0.0008132211612967409, 0.0011182405446308306], \"y\": [0.002994409958367723, -0.003232031988686867, -0.0013861693188890283, 0.00034831402977488884, 0.001220645498249214, 0.0009204406043682692, -0.0008656087831841966], \"topics\": [1, 2, 3, 4, 5, 6, 7], \"cluster\": [1, 1, 1, 1, 1, 1, 1], \"Freq\": [56.06827780545903, 20.13457646384892, 11.733309017864322, 7.478277468307061, 3.612774285136902, 0.8785348907901759, 0.09425006859358595]}, \"tinfo\": {\"Term\": [\"would\", \"man\", \"must\", \"knowledge\", \"soul\", \"like\", \"say\", \"also\", \"know\", \"mind\", \"true\", \"cannot\", \"said\", \"good\", \"another\", \"things\", \"many\", \"them,\", \"socrates,\", \"think\", \"yet\", \"work\", \"virtue\", \"either\", \"nature\", \"time\", \"two\", \"thing\", \"shall\", \"whether\", \"soul\", \"echecrates:\", \"alternation\", \"pure\", \"punishments\", \"refund\", \"replied\", \"death\", \"clearly\", \"ask\", \"him?\", \"perish\", \"earth,\", \"harmony,\", \"harmony\", \"pain\", \"strings,\", \"plato,\", \"regarded\", \"idea\", \"attendant\", \"arrives\", \"her,\", \"fire,\", \"believe\", \"reconcile\", \"likely,\", \"fears,\", \"seem\", \"ethical\", \"part\", \"great\", \"time\", \"them.\", \"four\", \"cause\", \"evil\", \"mind\", \"two\", \"think\", \"know\", \"rather\", \"good\", \"would\", \"not,\", \"many\", \"life\", \"not.\", \"work\", \"like\", \"also\", \"always\", \"cannot\", \"must\", \"say\", \"right\", \"another\", \"become\", \"nature\", \"said\", \"well\", \"knowledge\", \"shall\", \"true.\", \"men\", \"opinion\", \"man\", \"without\", \"see\", \"yet\", \"them,\", \"socrates,\", \"things\", \"true\", \"theaetetus\", \"sciences,\", \"harmonious\", \"eye;\", \"'all\", \"honesty,\", \"imagination,\", \"ashamed\", \"wider\", \"shameless\", \"lest\", \"universals\", \"five\", \"answered,\", \"agent\", \"numbers\", \"non-existence\", \"interrogate\", \"forward\", \"'not\", \"enable\", \"both,\", \"physical,\", \"(both\", \"concealed\", \"every\", \"fever\", \"phenomenon\", \"sweet\", \"anywhere,\", \"being,\", \"eyes,\", \"universal\", \"truly,\", \"dialogue.\", \"knowledge\", \"socrates,\", \"plato\", \"false\", \"relative\", \"wiser\", \"man\", \"place\", \"associated\", \"true\", \"case\", \"neither\", \"opinion\", \"perception\", \"hear\", \"suppose\", \"doctrine\", \"you,\", \"theodorus:\", \"person\", \"number\", \"something\", \"say\", \"yet\", \"works\", \"theaetetus,\", \"argument\", \"could\", \"whether\", \"make\", \"see\", \"nature\", \"would\", \"like\", \"without\", \"state\", \"know\", \"things\", \"also\", \"another\", \"them,\", \"cannot\", \"must\", \"mind\", \"said\", \"think\", \"true.\", \"many\", \"good\", \"two\", \"soul\", \"either\", \"stating\", \"contrary\", \"'great'\", \"contraries\", \"plain\", \"quantities\", \"modification\", \"classed\", \"correlatives\", \"attitudes,\", \"'man'\", \"those,\", \"substances\", \"category\", \"intermediate.\", \"'ruddered'\", \"'terrestrial'\", \"proposition,\", \"contraries.\", \"'animal',\", \"'positives'\", \"'socrates\", \"'man',\", \"differentia\", \"external.\", \"blind,\", \"join.\", \"reversed.\", \"accurately,\", \"'simultaneous'\", \"exists,\", \"primary\", \"predicated\", \"correlative\", \"secondary\", \"genus\", \"species\", \"qualities,\", \"quality,\", \"quality\", \"degree.\", \"substance\", \"else\", \"things\", \"present\", \"said\", \"virtue\", \"thus\", \"body\", \"either\", \"fact\", \"man\", \"them,\", \"called\", \"thing\", \"case\", \"reference\", \"true\", \"must\", \"something\", \"individual\", \"would\", \"existence\", \"also\", \"terms\", \"way\", \"socrates,\", \"mind\", \"cannot\", \"say\", \"yet\", \"whether\", \"knowledge\", \"think\", \"soul\", \"without\", \"another\", \"know\", \"like\", \"many\", \"good\", \"always\", \"meno\", \"tie\", \"virtue?\", \"laid\", \"been,\", \"taught?\", \"1.e.\", \"teachers\", \"internal\", \"miserable\", \"want,\", \"teachers?\", \"divination\", \"look\", \"exercised\", \"various\", \"spaces?\", \"glasses\", \"proved\", \"hurtful\", \"priestesses,\", \"'experience,'\", \"suspected\", \"particular\", \"justly,\", \"suited\", \"line?\", \"mythology,\", \"distinctions.\", \"useful\", \"access\", \"order\", \"old\", \"receive\", \"sense\", \"written\", \"figure\", \"wonder\", \"men\", \"merely\", \"him,\", \"ancient\", \"us,\", \"whatever\", \"them,\", \"philosophy\", \"virtue\", \"yet\", \"true.\", \"ideas\", \"yes,\", \"knowledge,\", \"something\", \"must\", \"word\", \"could\", \"socrates,\", \"then,\", \"world\", \"man\", \"work\", \"know\", \"like\", \"another\", \"first\", \"good\", \"would\", \"said\", \"plato\", \"shall\", \"also\", \"knowledge\", \"say\", \"things\", \"cannot\", \"mind\", \"many\", \"true\", \"nature\", \"whether\", \"think\", \"soul\", \"'socrates\", \"genera,\", \"stating\", \"qualities.\", \"boundary\", \"observed\", \"charge\", \"'prior'\", \"predicated\", \"pair\", \"crito\", \"bitterness,\", \"blackness,\", \"firmly\", \"intermediate.\", \"co-exist\", \"liability\", \"said.\", \"something.\", \"enumerated.\", \"particular\", \"substance.\", \"means.\", \"species.\", \"perceptible.\", \"habits\", \"dying\", \"related\", \"word\", \"those,\", \"disposition\", \"anything\", \"qualities\", \"definition\", \"away\", \"head\", \"species\", \"terms\", \"earth,\", \"must\", \"statements\", \"come\", \"therefore\", \"greater\", \"which,\", \"whether\", \"virtue\", \"body\", \"existence\", \"things\", \"let\", \"form\", \"true\", \"called\", \"every\", \"would\", \"man\", \"world\", \"argument\", \"cannot\", \"yes,\", \"said\", \"also\", \"either\", \"socrates,\", \"like\", \"yet\", \"another\", \"part\", \"knowledge\", \"them,\", \"soul\", \"many\", \"could\", \"know\", \"good\", \"say\", \"thing\", \"time\", \"nature\", \"mind\", \"think\", \"true.\", \"stating\", \"affections,\", \"plato's\", \"particular\", \"exists\", \"online\", \"priests\", \"such.\", \"fives\", \"god.\", \"head.\", \"'privatives'\", \"class\", \"variance\", \"phaedo.)\", \"readable\", \"boundary\", \"heat\", \"removed,\", \"badness\", \"action;\", \"justice\", \"sort,\", \"eliciting\", \"'terrestrial'\", \"strictly\", \"each,\", \"house.\", \"inspired\", \"primary\", \"process\", \"knowledge,\", \"them;\", \"good?\", \"justice,\", \"be,\", \"true\", \"figure\", \"present\", \"word\", \"various\", \"work.\", \"predicated\", \"things\", \"true,\", \"man\", \"doctrine\", \"immortality\", \"exist\", \"another\", \"must\", \"common\", \"would\", \"right\", \"good\", \"ideas\", \"thus\", \"body\", \"also\", \"could\", \"given\", \"many\", \"case\", \"soul\", \"virtue\", \"true.\", \"whether\", \"knowledge\", \"socrates,\", \"like\", \"let\", \"think\", \"nature\", \"well\", \"mind\", \"thing\", \"said\", \"cannot\", \"without\", \"either\", \"say\", \"know\", \"great\", \"them,\", \"'privatives'\", \"indicate\", \"proposition,\", \"preposition\", \"head\", \"relatives\", \"species.\", \"'socrates\", \"complexion\", \"perceptible\", \"similarly\", \"winged\", \"modification\", \"glyn\", \"pair\", \"attitudes.\", \"cancel\", \"stating\", \"'three\", \"slave'\", \"qualitative\", \"necessitates\", \"bitterness,\", \"al\", \"affections,\", \"'being\", \"correlatives:\", \"sits',\", \"disposition,\", \"class\", \"tax\", \"charge\", \"primary\", \"substance\", \"beautiful\", \"true\", \"predicable\", \"particular\", \"contraries\", \"secondary\", \"species\", \"virtue\", \"qualities\", \"state\", \"reference\", \"defined\", \"either\", \"answer\", \"shall\", \"perhaps\", \"work\", \"terms\", \"true,\", \"form\", \"must\", \"sort\", \"like\", \"man\", \"them,\", \"would\", \"knowledge\", \"say\", \"again,\", \"therefore\", \"thing\", \"definition\", \"time\", \"see\", \"way\", \"mind\", \"also\", \"first\", \"ideas\", \"two\", \"cannot\", \"many\", \"soul\", \"men\", \"another\", \"yet\", \"things\", \"good\", \"know\", \"said\", \"nature\", \"socrates,\", \"think\"], \"Freq\": [395.0, 275.0, 255.0, 264.0, 265.0, 245.0, 267.0, 244.0, 282.0, 229.0, 166.0, 201.0, 210.0, 187.0, 182.0, 173.0, 170.0, 164.0, 188.0, 189.0, 178.0, 138.0, 131.0, 137.0, 152.0, 144.0, 145.0, 132.0, 121.0, 133.0, 189.494570190171, 12.735811022398844, 6.477088213784249, 17.439009954348922, 2.8146094198861396, 19.20129155751342, 21.31752071314407, 40.346291896955265, 14.787072539484546, 46.171458941181086, 11.556294260454832, 6.178303882538485, 12.48774354205956, 13.759050827180493, 25.02601657667415, 4.965477015830998, 2.670452237477386, 21.645035166717463, 22.63389948586851, 37.50160342484114, 5.128207538943765, 3.262486796384032, 6.241929874550618, 6.528613267338163, 20.416958937565365, 2.5666800723796994, 3.1263990829193364, 4.809288463681654, 41.46018300576879, 7.043218848123229, 70.19943917860344, 92.4818744891897, 93.14074097758346, 81.52472410782201, 17.919983455294688, 30.91313745218289, 34.72352411162734, 145.01720445824878, 93.10645590617072, 119.84251877854403, 176.2015423707118, 60.15351141370264, 117.85899157506981, 236.9412192048289, 50.34140285300872, 104.94383892853237, 51.765607612748866, 42.079701226549616, 85.70017324091494, 146.48395613970928, 145.27851360309495, 83.82379291322005, 120.63673334187027, 148.80540748703993, 154.15698083970224, 65.45850737973286, 105.6114414395763, 53.64238978141203, 89.73968761126172, 118.0801969912827, 70.54920959420443, 139.4243336409601, 72.07740275971331, 74.90744011012433, 70.5985556651079, 82.77329221715101, 134.6068069351277, 78.35999341493947, 75.3458405696868, 93.47428505488573, 87.35151458955964, 92.43572707239365, 87.99112485875393, 82.42630254105045, 22.64030278018185, 3.6199062346811517, 1.1059395190981574, 1.1221896345979625, 2.127286551787502, 0.8263567400903958, 2.027728258803032, 1.3908363066600469, 1.5029792938671955, 0.846276876569233, 2.2479289764035517, 1.880328376111261, 3.124358161625321, 0.7942160073612667, 5.4427778402983575, 3.654138118162759, 1.5451980636610791, 1.122241493982189, 1.0610250534170653, 2.2141144933222927, 1.3370263782550305, 2.6407633609678736, 0.7192333354203188, 0.7538192606632841, 1.0491055121659871, 25.27706981190612, 0.7346350764892956, 1.5615933854367183, 2.508220154669301, 0.7795538713015927, 3.4477374081804855, 3.8810675683191045, 4.33488065199321, 2.0074387031280354, 2.508936986644661, 70.14250591753614, 49.400068282835576, 26.209584876073695, 16.811240170071393, 8.168833924647451, 4.009046427283881, 69.2194716507075, 19.929830846648862, 8.054978495478029, 41.29678317680665, 23.98134929790212, 23.108918245728628, 35.51149096926613, 11.296774081583969, 11.274977627488703, 20.64464544686727, 14.65694903896855, 20.296717501053266, 21.246886762274798, 14.109549157665862, 13.754735007148449, 16.738017244870157, 59.082845567268265, 40.670450246243334, 22.412391338763843, 19.764344034163102, 16.506450573671398, 28.74251913888996, 30.141974294827982, 22.314766544003803, 28.97310021121772, 32.86879302779102, 72.61882091636606, 48.83949196918863, 29.589675280044975, 19.022561832625065, 52.00608982474199, 34.42738416073708, 43.34650558669664, 34.86435800630657, 30.988824510711176, 34.97649116277827, 40.22431307295662, 36.47007894763763, 34.17647348827068, 31.26973606242817, 25.88088548802853, 29.016365548480408, 29.595762038519194, 27.036861646735385, 28.543774497443717, 26.10382708682321, 1.6235817322946642, 12.735317493792984, 1.5327125879694337, 4.649893152326191, 2.0267195079804337, 1.4429056376217786, 0.7301799432833486, 0.734393820786865, 1.2416435824578194, 0.5258683770374069, 2.9009960765906677, 0.6686359722252059, 2.615820381851221, 2.3780371439875325, 1.0047706464096482, 0.710698012811718, 0.6797421799529307, 0.7947847779172469, 1.0426214373847211, 1.0523314986097092, 2.2802719903891857, 1.383566047553614, 1.562005280490448, 0.6512540954280914, 0.5474523058236906, 0.6680515815850941, 0.55363699726937, 0.6383921930036373, 0.5238864208328369, 1.4137847041269254, 1.8105903110636468, 4.267407034433424, 5.586614743629974, 1.7562840803643303, 2.5441974986361444, 4.639041009204483, 6.882511578482835, 3.306008275137211, 3.3563094931953015, 4.873053327053175, 2.23862515675086, 6.950483583792999, 5.128967128166752, 28.32598226625189, 13.682027177303516, 32.64669766820511, 21.01739814165368, 13.465431687216563, 15.124506991293115, 20.93048008562425, 5.40472130423128, 37.1504959986268, 23.932361990212698, 12.318166325932404, 19.318649656004407, 14.19677447274404, 6.956385619166863, 22.267874489845457, 30.874134427117067, 10.411774001767709, 10.72908293013218, 41.46274832670347, 9.923562109365191, 27.886610483912584, 14.256169038314459, 14.732793818739136, 22.130342811947813, 25.230444810810997, 23.01499303709035, 27.75563802463945, 20.744788606364324, 16.855239236066065, 26.50378760423838, 20.044282557626698, 24.760589480377, 16.348060269807668, 19.06164937919046, 23.57029648584151, 21.65443954557183, 17.39879831977749, 17.96259511572193, 15.699740373557216, 3.4882325700496764, 0.40695319521146645, 2.158608602062021, 0.6582918706455007, 0.5065571871230559, 1.0418455895997352, 0.4462373119339452, 2.303836537929186, 0.7967061838849535, 0.4760777123205511, 0.2722348143301941, 0.5874713844305065, 0.2778259952627913, 1.7693785838142084, 0.5711941811662284, 3.074576496524313, 0.35991513413317566, 0.26325616716578215, 1.2542012616315816, 0.44921956988019957, 0.2692995205484795, 0.2712371440645103, 0.3706843989390943, 3.4054730026563966, 0.2629741979396668, 0.266155316629709, 0.35291388933314766, 0.5287427971674288, 0.28491135348447366, 0.9119416385473875, 3.880277892323582, 4.659450229814054, 5.3884476886115165, 2.9915275066049105, 10.635145871345749, 2.0658919618267544, 3.2403202017524384, 1.3972805032261069, 12.051815539951502, 1.9193987403511752, 7.1170419487781995, 3.547944188962244, 4.517463826239462, 2.3595996832307446, 15.448906008703164, 6.456632804963012, 12.239482465565768, 16.041685147678127, 11.782686892586558, 7.837203445046669, 8.284863985553226, 7.522379268548104, 6.343079484741755, 21.331329881515458, 4.926089307486702, 11.175581338568527, 15.864560705561695, 9.916294279991805, 8.11973396327401, 21.2407170482629, 11.716324451217222, 21.128772702899827, 18.330888697073615, 14.244453799473842, 10.447825180827547, 14.503248990720929, 26.21598889035536, 15.571661893319837, 8.569394735016658, 10.007425929920819, 16.99591443211, 18.004679495945613, 17.76881621618497, 12.727388816232589, 13.965668087153944, 14.981531506426533, 12.08466499666641, 11.666775314745044, 10.794752747084793, 10.036456081226191, 11.737952889400832, 12.543818827265879, 0.39144986806466897, 0.2619342924806718, 0.3626794536451664, 0.6147717094940763, 0.3505767390364572, 0.5476036403924565, 1.2792675566325904, 0.39540673016272143, 1.503268661438671, 0.2906468851999587, 0.554492077256105, 0.12522071627611966, 0.1284033291398396, 0.1672653618232274, 0.246044992832312, 0.18425430948484142, 0.2513831187362729, 2.1687002717994837, 0.24377952470051892, 0.12478262748615625, 1.725221262998151, 0.2980142080845374, 0.3132133694100875, 0.19349692944266272, 0.12458977520474832, 0.22385458432644087, 0.2742715466643113, 0.33022754629941947, 2.7860987986400514, 0.15692607151597493, 0.28180157298408975, 4.165403949071188, 1.1118864704941538, 3.167521221951108, 3.064754016672353, 0.6335667882768697, 1.6836811696394913, 4.9817895215769985, 0.9815580088694247, 11.730078365094382, 0.6774365799179398, 3.6352202893616856, 4.571119448486977, 3.1368971147040354, 1.847030240034255, 6.196021793187127, 6.047299654809313, 4.312866406188215, 2.9999916410124534, 7.560236661217721, 4.21015901311321, 3.7009645173013186, 6.9493764368143065, 3.451576886449232, 3.8739010178880195, 14.575087523736565, 10.593641315306627, 3.9113281807252065, 3.0345667197617545, 7.651480566428635, 3.8293852026609962, 7.817645082699896, 8.614511421527517, 5.414227611849822, 6.871083038887977, 8.418878908354385, 6.508058176239339, 6.4548408505395525, 4.411174365696515, 7.920522591003748, 5.760339343983644, 7.7916104616496265, 5.767965270498071, 4.7927363508163205, 7.644786260299884, 6.003894119797347, 7.254215159088031, 4.835046105541411, 4.972975636660827, 4.963847414015859, 5.64876757517112, 4.965799207920034, 4.604708014265343, 0.08721073100958804, 0.06170690230345026, 0.19766415945730684, 0.43640093594776264, 0.25869033248267503, 0.18839141942355148, 0.0549802513524631, 0.06126440328364657, 0.03044537602448781, 0.13484116746027094, 0.031139609227959032, 0.08294996806328934, 0.2834571809681364, 0.09016378350199997, 0.04087659662587567, 0.09670370525009782, 0.07670932462667161, 0.13861223946682816, 0.04983951178832492, 0.02952593638353824, 0.0411226541630697, 0.29751004692565136, 0.05953933633634725, 0.043356848415401765, 0.038821375132620586, 0.05034623463512868, 0.08884993400582641, 0.04046463147088164, 0.13267304661819201, 0.25407056149167273, 0.4299011383504058, 1.0189299676815733, 0.5133374602330141, 0.16746321963320399, 0.1236942486514675, 0.2037734667418228, 1.93951373721979, 0.38001789375635464, 0.919540006420393, 0.6136927937643563, 0.3359157380603542, 0.20720037459310317, 0.31287710868428936, 1.8808961466005334, 0.6779333693310781, 2.858878072583977, 0.6610176318382305, 0.3599804375195496, 0.3172861688546488, 1.8536258281527946, 2.4754776924566837, 0.6526325815780082, 3.6110932239396294, 1.1231809170722238, 1.8374119563457998, 0.8853949050795141, 0.8500549886982888, 0.9654381310668215, 2.277392772485722, 1.2564923296414356, 0.7494998057288111, 1.6096311980607299, 0.9685652017963623, 2.259646847582094, 1.261378125798198, 1.2352479691733194, 1.2680101804039996, 2.179871031980345, 1.6532915630879597, 1.967815540700779, 0.9276834617549297, 1.583417298602606, 1.3360453767138454, 1.1068783911981543, 1.695327569008378, 1.1738396643773008, 1.5705686294013426, 1.5179880785200928, 1.1884451700696976, 1.170980192926927, 1.6373018450301025, 1.5267487122391927, 1.1439313837178022, 1.1393587731644694, 0.011754704609784793, 0.015596060319053624, 0.0060747958055041565, 0.0064695181561364775, 0.020214892742512005, 0.006134240157279722, 0.005864542066716179, 0.010132470728032101, 0.0035699545405388938, 0.00855797369665878, 0.021187403570328785, 0.005149415576146337, 0.004919652853206396, 0.0037613110354483593, 0.008016114511559772, 0.00361270078928095, 0.0034730057393554154, 0.009354477264294787, 0.005904973497018391, 0.004807783753193346, 0.00505003459020416, 0.0036149480587603033, 0.003421563406312079, 0.003488834993884602, 0.006556553303005816, 0.0034958417209020884, 0.0035031076670554613, 0.0035094853443783706, 0.005787177820084214, 0.03218085503751008, 0.03081304600417279, 0.0328330942902243, 0.029189385150629715, 0.05243348231807667, 0.019966349719831404, 0.22952504516755495, 0.02431775243125575, 0.04371484341888877, 0.027045666538986272, 0.017187892102413085, 0.04507836984813089, 0.1632374669446486, 0.02934773004636596, 0.10071016372500909, 0.05220959804342351, 0.019769430990206463, 0.1589164274909652, 0.10008986162081526, 0.14188890168693108, 0.04613520035460525, 0.15476912396366607, 0.11605193767101632, 0.07090195579242031, 0.0933935305204073, 0.25163433330853613, 0.07034559553422778, 0.24138766937406908, 0.26507319899832826, 0.1708150958227976, 0.3548091289354159, 0.2527157651464215, 0.25116389532808886, 0.09261636622016003, 0.10473575078039853, 0.13385799226429965, 0.07256412630833962, 0.14150376453379251, 0.13088641892373207, 0.11266085151131601, 0.1951400979462381, 0.2048596097930292, 0.12331861166443854, 0.09094389448776577, 0.13642067823721984, 0.17058957686330053, 0.14941466647321466, 0.19728264289469302, 0.11593480777352398, 0.15123243601962624, 0.14916655914132923, 0.14628614987784103, 0.14988028145788287, 0.18541069693163106, 0.15666730379264676, 0.13419988457293153, 0.1302856384691203, 0.1261489266188262], \"Total\": [395.0, 275.0, 255.0, 264.0, 265.0, 245.0, 267.0, 244.0, 282.0, 229.0, 166.0, 201.0, 210.0, 187.0, 182.0, 173.0, 170.0, 164.0, 188.0, 189.0, 178.0, 138.0, 131.0, 137.0, 152.0, 144.0, 145.0, 132.0, 121.0, 133.0, 265.59129294738403, 18.649845282005128, 9.495440810891148, 25.632127549277318, 4.158406252798324, 28.46502760999342, 31.816155827680063, 60.358785930590166, 22.123643358807968, 69.10150438537443, 17.298272682493067, 9.250624456980814, 18.707570858824468, 20.699352714091262, 37.65483159004309, 7.498487377859696, 4.052787103261326, 32.89780283584819, 34.40298681532018, 57.0416915202773, 7.810591719363644, 4.970356257433349, 9.516239365271025, 9.953485406406946, 31.158973770367062, 3.9191081992990395, 4.775183262856354, 7.351122757725288, 63.407671012198634, 10.771722834747573, 107.97192694432955, 143.46259645617494, 144.5579706620739, 126.62589205716392, 27.503224807806596, 47.79928272411161, 53.808957341930544, 229.2384949652497, 145.91872766718413, 189.56985572114124, 282.2636470536658, 94.58463152127288, 187.91178407763286, 395.7797672148654, 79.04281185477647, 170.9706789284887, 81.97228300261229, 66.14587663521091, 138.97504207499492, 245.93685846997255, 244.60430790962045, 136.72842247504312, 201.93394385070485, 255.69237525948867, 267.9069615472411, 107.5205766732631, 182.24160173925912, 86.64162042592521, 152.8609220547059, 210.01991105697223, 118.30154911460006, 264.42841604681075, 121.54844141234611, 128.70561952751055, 119.63322648213128, 146.60194693320892, 275.9350842196139, 137.5706984369511, 130.70194604414834, 178.7021837534521, 164.7921203121576, 188.48535911318376, 173.05929905967156, 166.77615074164925, 64.66698757843321, 10.941356886896187, 3.434662381986495, 3.5814239381415462, 6.846290969991321, 2.697016877686059, 6.619927802272941, 4.557569940226976, 4.965172437578798, 2.796360972254674, 7.446422177543773, 6.233131296290557, 10.386233043662857, 2.6444660178607844, 18.182183802531444, 12.227104209054675, 5.233436805564374, 3.810068391237685, 3.6051166712776093, 7.523248457862095, 4.56525631090558, 9.02896644784278, 2.459224139039905, 2.578470411080089, 3.5944524867492, 86.63504133333423, 2.518144708857957, 5.353243009190785, 8.599100876821252, 2.673641057675649, 11.830610819869234, 13.464304491714122, 15.057691003841985, 6.941072384857727, 8.735036418670646, 264.42841604681075, 188.48535911318376, 98.83536407301774, 62.431889882697334, 29.64142376400392, 14.18727524163997, 275.9350842196139, 76.30632015539787, 29.472543576818556, 166.77615074164925, 94.67223307228014, 91.68092242585156, 146.60194693320892, 43.0263917166267, 42.9412042381161, 82.47723826264088, 57.35846129593438, 81.89041287659096, 86.27374950785399, 55.180873391572376, 53.79694612947346, 66.9305269327672, 267.9069615472411, 178.7021837534521, 93.23881453470196, 81.3047776347927, 66.99227623877223, 126.41953695811264, 133.94170438892456, 95.0414698720799, 130.70194604414834, 152.8609220547059, 395.7797672148654, 245.93685846997255, 137.5706984369511, 79.93246560566921, 282.2636470536658, 173.05929905967156, 244.60430790962045, 182.24160173925912, 164.7921203121576, 201.93394385070485, 255.69237525948867, 229.2384949652497, 210.01991105697223, 189.56985572114124, 128.70561952751055, 170.9706789284887, 187.91178407763286, 145.91872766718413, 265.59129294738403, 137.12374766455875, 5.839946840193308, 50.232633040602984, 6.15390171131471, 18.78051672702676, 8.291592971727075, 5.955511943691002, 3.024465514264768, 3.0708384817818195, 5.200450449166964, 2.248333442417885, 12.427841912759245, 2.865960911883787, 11.236294837516244, 10.26139796008137, 4.336944066068791, 3.08110954605527, 2.9519272437869533, 3.455374548039079, 4.590610166128196, 4.636828218543232, 10.08042979030071, 6.117409507934042, 6.910395173665712, 2.8834616165089426, 2.430298943780289, 2.9699013902740528, 2.468250073903258, 2.8491746728174028, 2.3394666912381923, 6.3306806550797825, 8.158412002199867, 19.42990657190643, 25.64601684823984, 7.9684299648827945, 11.708270818030604, 21.801882395853344, 32.80871202785975, 15.42939836508312, 15.929192890737038, 23.942597785253096, 10.402918328002636, 35.75994981653652, 26.27096026573576, 173.05929905967156, 77.41450031962782, 210.01991105697223, 131.24010309451862, 79.73165204821606, 92.23905216368132, 137.12374766455875, 28.837131511944182, 275.9350842196139, 164.7921203121576, 75.75871488345634, 132.47833284522974, 94.67223307228014, 39.34471961614597, 166.77615074164925, 255.69237525948867, 66.9305269327672, 69.75498797787762, 395.7797672148654, 63.229192926549594, 244.60430790962045, 102.55694278867371, 108.13850513843732, 188.48535911318376, 229.2384949652497, 201.93394385070485, 267.9069615472411, 178.7021837534521, 133.94170438892456, 264.42841604681075, 189.56985572114124, 265.59129294738403, 137.5706984369511, 182.24160173925912, 282.2636470536658, 245.93685846997255, 170.9706789284887, 187.91178407763286, 136.72842247504312, 26.4461898600936, 3.1586495973780426, 17.233890873165876, 5.534087432911002, 4.266476602134569, 8.860027086275293, 3.8198355973335363, 19.77769224143041, 6.854914669182464, 4.096743819992719, 2.3651421130885506, 5.184192456706873, 2.4560957993322696, 15.693982021247841, 5.067121984754491, 27.354966898650854, 3.2230725164059715, 2.3635380785482143, 11.265772763485767, 4.036038116184667, 2.43427236929614, 2.452544834482319, 3.358856943938909, 30.885666399815978, 2.4022883406637145, 2.4317790418701275, 3.2358168821555595, 4.854568722934566, 2.620507549270139, 8.40052284447927, 35.8672794860932, 43.19170362235058, 50.072940225997904, 27.868890033560888, 101.88801907914628, 19.281440938690544, 30.63931168389012, 12.99872159559025, 119.63322648213128, 18.229546890557472, 71.47358926309352, 34.72615377762872, 44.994998269274205, 22.752623568029776, 164.7921203121576, 65.68861710294249, 131.24010309451862, 178.7021837534521, 128.70561952751055, 83.1470564169988, 88.68359265175185, 80.18515260501623, 66.9305269327672, 255.69237525948867, 50.8755847472729, 126.41953695811264, 188.48535911318376, 112.9683823069752, 90.12674438359122, 275.9350842196139, 138.97504207499492, 282.2636470536658, 245.93685846997255, 182.24160173925912, 125.13874076012144, 187.91178407763286, 395.7797672148654, 210.01991105697223, 98.83536407301774, 121.54844141234611, 244.60430790962045, 264.42841604681075, 267.9069615472411, 173.05929905967156, 201.93394385070485, 229.2384949652497, 170.9706789284887, 166.77615074164925, 152.8609220547059, 133.94170438892456, 189.56985572114124, 265.59129294738403, 6.117409507934042, 4.140465577193719, 5.839946840193308, 9.922631711193972, 5.741622786620129, 9.194367453899691, 21.610533287514514, 6.739891134886185, 25.64601684823984, 4.977024992205473, 9.539508688769768, 2.1619930212486977, 2.2231575385407876, 2.9343585215034813, 4.336944066068791, 3.2513653386540953, 4.441581779925518, 38.59930998408895, 4.356026161223629, 2.23294080908497, 30.885666399815978, 5.355619857501533, 5.643110537419174, 3.4945105395733855, 2.2542260194667865, 4.057338996428999, 4.98822315838041, 6.010369000043408, 50.8755847472729, 2.865960911883787, 5.165993000878622, 78.55905683609022, 20.77396122497575, 61.05584924503411, 59.37907734883515, 11.79102316266755, 32.80871202785975, 102.55694278867371, 18.707570858824468, 255.69237525948867, 12.729538248057976, 74.92048213811572, 95.59391273034976, 64.26776377594645, 36.87906641258508, 133.94170438892456, 131.24010309451862, 92.23905216368132, 63.229192926549594, 173.05929905967156, 91.90259135907871, 80.86828157859165, 166.77615074164925, 75.75871488345634, 86.63504133333423, 395.7797672148654, 275.9350842196139, 90.12674438359122, 66.99227623877223, 201.93394385070485, 88.68359265175185, 210.01991105697223, 244.60430790962045, 137.12374766455875, 188.48535911318376, 245.93685846997255, 178.7021837534521, 182.24160173925912, 107.97192694432955, 264.42841604681075, 164.7921203121576, 265.59129294738403, 170.9706789284887, 126.41953695811264, 282.2636470536658, 187.91178407763286, 267.9069615472411, 132.47833284522974, 144.5579706620739, 152.8609220547059, 229.2384949652497, 189.56985572114124, 128.70561952751055, 5.839946840193308, 4.168613039456935, 13.947631858620902, 30.885666399815978, 18.392565386182696, 13.422999291212625, 3.9310545660773912, 4.420708428026123, 2.2260374038019903, 9.896871755353722, 2.2916586717074985, 6.132807795868121, 20.99387625606623, 6.693727274048069, 3.039128874742109, 7.21309117505807, 5.741622786620129, 10.393182264979083, 3.7393759564495537, 2.2324143298702244, 3.1136675934122175, 22.534147698391212, 4.51752636976804, 3.295710250936383, 2.9519272437869533, 3.8291050736548833, 6.767122144587322, 3.0911112133469603, 10.141155055372979, 19.42990657190643, 33.16815966540718, 80.18515260501623, 40.110142204853375, 12.960612500962647, 9.574732004513766, 15.972221595794103, 166.77615074164925, 30.63931168389012, 77.41450031962782, 50.8755847472729, 27.354966898650854, 16.46002397862411, 25.64601684823984, 173.05929905967156, 58.59276261794396, 275.9350842196139, 57.35846129593438, 29.815527616530947, 26.11451075162896, 182.24160173925912, 255.69237525948867, 58.560215697918764, 395.7797672148654, 107.5205766732631, 187.91178407763286, 83.1470564169988, 79.73165204821606, 92.23905216368132, 244.60430790962045, 126.41953695811264, 69.5396062203449, 170.9706789284887, 94.67223307228014, 265.59129294738403, 131.24010309451862, 128.70561952751055, 133.94170438892456, 264.42841604681075, 188.48535911318376, 245.93685846997255, 91.90259135907871, 189.56985572114124, 152.8609220547059, 118.30154911460006, 229.2384949652497, 132.47833284522974, 210.01991105697223, 201.93394385070485, 137.5706984369511, 137.12374766455875, 267.9069615472411, 282.2636470536658, 143.46259645617494, 164.7921203121576, 6.132807795868121, 8.77510996717955, 3.455374548039079, 3.7028332544273046, 11.79102316266755, 3.614262692877931, 3.4945105395733855, 6.117409507934042, 2.162787471775329, 5.191885967537816, 12.909275277016041, 3.1451138310671602, 3.024465514264768, 2.326723553999518, 4.977024992205473, 2.243435826130626, 2.16713906116274, 5.839946840193308, 3.693177934314331, 3.020712718636869, 3.174738990163349, 2.2754496770715744, 2.1619930212486977, 2.2159000881274142, 4.168613039456935, 2.223070356154103, 2.23661914040051, 2.280929335741786, 3.7741065412355543, 20.99387625606623, 20.142033070940737, 21.610533287514514, 19.42990657190643, 35.75994981653652, 13.323532255500142, 166.77615074164925, 16.534873024425245, 30.885666399815978, 18.78051672702676, 11.708270818030604, 32.80871202785975, 131.24010309451862, 20.77396122497575, 79.93246560566921, 39.34471961614597, 13.719351105971803, 137.12374766455875, 82.38937743467557, 121.54844141234611, 35.28184108718463, 138.97504207499492, 102.55694278867371, 58.59276261794396, 80.86828157859165, 255.69237525948867, 58.57044246668969, 245.93685846997255, 275.9350842196139, 164.7921203121576, 395.7797672148654, 264.42841604681075, 267.9069615472411, 81.40870254240481, 95.59391273034976, 132.47833284522974, 61.05584924503411, 144.5579706620739, 130.70194604414834, 108.13850513843732, 229.2384949652497, 244.60430790962045, 125.13874076012144, 83.1470564169988, 145.91872766718413, 201.93394385070485, 170.9706789284887, 265.59129294738403, 119.63322648213128, 182.24160173925912, 178.7021837534521, 173.05929905967156, 187.91178407763286, 282.2636470536658, 210.01991105697223, 152.8609220547059, 188.48535911318376, 189.56985572114124], \"Category\": [\"Default\", \"Default\", \"Default\", \"Default\", \"Default\", \"Default\", \"Default\", \"Default\", \"Default\", \"Default\", \"Default\", \"Default\", \"Default\", \"Default\", \"Default\", \"Default\", \"Default\", \"Default\", \"Default\", \"Default\", \"Default\", \"Default\", \"Default\", \"Default\", \"Default\", \"Default\", \"Default\", \"Default\", \"Default\", \"Default\", \"Topic1\", \"Topic1\", \"Topic1\", \"Topic1\", \"Topic1\", \"Topic1\", \"Topic1\", \"Topic1\", \"Topic1\", \"Topic1\", \"Topic1\", \"Topic1\", \"Topic1\", \"Topic1\", \"Topic1\", \"Topic1\", \"Topic1\", \"Topic1\", \"Topic1\", \"Topic1\", \"Topic1\", \"Topic1\", \"Topic1\", \"Topic1\", \"Topic1\", \"Topic1\", \"Topic1\", \"Topic1\", \"Topic1\", \"Topic1\", \"Topic1\", \"Topic1\", \"Topic1\", \"Topic1\", \"Topic1\", \"Topic1\", \"Topic1\", \"Topic1\", \"Topic1\", \"Topic1\", \"Topic1\", \"Topic1\", \"Topic1\", \"Topic1\", \"Topic1\", \"Topic1\", \"Topic1\", \"Topic1\", \"Topic1\", \"Topic1\", \"Topic1\", \"Topic1\", \"Topic1\", \"Topic1\", \"Topic1\", \"Topic1\", \"Topic1\", \"Topic1\", \"Topic1\", \"Topic1\", \"Topic1\", \"Topic1\", \"Topic1\", \"Topic1\", \"Topic1\", \"Topic1\", \"Topic1\", \"Topic1\", \"Topic1\", \"Topic1\", \"Topic1\", \"Topic1\", \"Topic1\", \"Topic1\", \"Topic2\", \"Topic2\", \"Topic2\", \"Topic2\", \"Topic2\", \"Topic2\", \"Topic2\", \"Topic2\", \"Topic2\", \"Topic2\", \"Topic2\", \"Topic2\", \"Topic2\", \"Topic2\", \"Topic2\", \"Topic2\", \"Topic2\", \"Topic2\", \"Topic2\", \"Topic2\", \"Topic2\", \"Topic2\", \"Topic2\", \"Topic2\", \"Topic2\", \"Topic2\", \"Topic2\", \"Topic2\", \"Topic2\", \"Topic2\", \"Topic2\", \"Topic2\", \"Topic2\", \"Topic2\", \"Topic2\", \"Topic2\", \"Topic2\", \"Topic2\", \"Topic2\", \"Topic2\", \"Topic2\", \"Topic2\", \"Topic2\", \"Topic2\", \"Topic2\", \"Topic2\", \"Topic2\", \"Topic2\", \"Topic2\", \"Topic2\", \"Topic2\", \"Topic2\", \"Topic2\", \"Topic2\", \"Topic2\", \"Topic2\", \"Topic2\", \"Topic2\", \"Topic2\", \"Topic2\", \"Topic2\", \"Topic2\", \"Topic2\", \"Topic2\", \"Topic2\", \"Topic2\", \"Topic2\", \"Topic2\", \"Topic2\", \"Topic2\", \"Topic2\", \"Topic2\", \"Topic2\", \"Topic2\", \"Topic2\", \"Topic2\", \"Topic2\", \"Topic2\", \"Topic2\", \"Topic2\", \"Topic2\", \"Topic2\", \"Topic2\", \"Topic2\", \"Topic2\", \"Topic2\", \"Topic2\", \"Topic3\", \"Topic3\", \"Topic3\", \"Topic3\", \"Topic3\", \"Topic3\", \"Topic3\", \"Topic3\", \"Topic3\", \"Topic3\", \"Topic3\", \"Topic3\", \"Topic3\", \"Topic3\", \"Topic3\", \"Topic3\", \"Topic3\", \"Topic3\", \"Topic3\", \"Topic3\", \"Topic3\", \"Topic3\", \"Topic3\", \"Topic3\", \"Topic3\", \"Topic3\", \"Topic3\", \"Topic3\", \"Topic3\", \"Topic3\", \"Topic3\", \"Topic3\", \"Topic3\", \"Topic3\", \"Topic3\", \"Topic3\", \"Topic3\", \"Topic3\", \"Topic3\", \"Topic3\", \"Topic3\", \"Topic3\", \"Topic3\", \"Topic3\", \"Topic3\", \"Topic3\", \"Topic3\", \"Topic3\", \"Topic3\", \"Topic3\", \"Topic3\", \"Topic3\", \"Topic3\", \"Topic3\", \"Topic3\", \"Topic3\", \"Topic3\", \"Topic3\", \"Topic3\", \"Topic3\", \"Topic3\", \"Topic3\", \"Topic3\", \"Topic3\", \"Topic3\", \"Topic3\", \"Topic3\", \"Topic3\", \"Topic3\", \"Topic3\", \"Topic3\", \"Topic3\", \"Topic3\", \"Topic3\", \"Topic3\", \"Topic3\", \"Topic3\", \"Topic3\", \"Topic3\", \"Topic3\", \"Topic3\", \"Topic3\", \"Topic4\", \"Topic4\", \"Topic4\", \"Topic4\", \"Topic4\", \"Topic4\", \"Topic4\", \"Topic4\", \"Topic4\", \"Topic4\", \"Topic4\", \"Topic4\", \"Topic4\", \"Topic4\", \"Topic4\", \"Topic4\", \"Topic4\", \"Topic4\", \"Topic4\", \"Topic4\", \"Topic4\", \"Topic4\", \"Topic4\", \"Topic4\", \"Topic4\", \"Topic4\", \"Topic4\", \"Topic4\", \"Topic4\", \"Topic4\", \"Topic4\", \"Topic4\", \"Topic4\", \"Topic4\", \"Topic4\", \"Topic4\", \"Topic4\", \"Topic4\", \"Topic4\", \"Topic4\", \"Topic4\", \"Topic4\", \"Topic4\", \"Topic4\", \"Topic4\", \"Topic4\", \"Topic4\", \"Topic4\", \"Topic4\", \"Topic4\", \"Topic4\", \"Topic4\", \"Topic4\", \"Topic4\", \"Topic4\", \"Topic4\", \"Topic4\", \"Topic4\", \"Topic4\", \"Topic4\", \"Topic4\", \"Topic4\", \"Topic4\", \"Topic4\", \"Topic4\", \"Topic4\", \"Topic4\", \"Topic4\", \"Topic4\", \"Topic4\", \"Topic4\", \"Topic4\", \"Topic4\", \"Topic4\", \"Topic4\", \"Topic4\", \"Topic4\", \"Topic4\", \"Topic4\", \"Topic4\", \"Topic4\", \"Topic4\", \"Topic5\", \"Topic5\", \"Topic5\", \"Topic5\", \"Topic5\", \"Topic5\", \"Topic5\", \"Topic5\", \"Topic5\", \"Topic5\", \"Topic5\", \"Topic5\", \"Topic5\", \"Topic5\", \"Topic5\", \"Topic5\", \"Topic5\", \"Topic5\", \"Topic5\", \"Topic5\", \"Topic5\", \"Topic5\", \"Topic5\", \"Topic5\", \"Topic5\", \"Topic5\", \"Topic5\", \"Topic5\", \"Topic5\", \"Topic5\", \"Topic5\", \"Topic5\", \"Topic5\", \"Topic5\", \"Topic5\", \"Topic5\", \"Topic5\", \"Topic5\", \"Topic5\", \"Topic5\", \"Topic5\", \"Topic5\", \"Topic5\", \"Topic5\", \"Topic5\", \"Topic5\", \"Topic5\", \"Topic5\", \"Topic5\", \"Topic5\", \"Topic5\", \"Topic5\", \"Topic5\", \"Topic5\", \"Topic5\", \"Topic5\", \"Topic5\", \"Topic5\", \"Topic5\", \"Topic5\", \"Topic5\", \"Topic5\", \"Topic5\", \"Topic5\", \"Topic5\", \"Topic5\", \"Topic5\", \"Topic5\", \"Topic5\", \"Topic5\", \"Topic5\", \"Topic5\", \"Topic5\", \"Topic5\", \"Topic5\", \"Topic5\", \"Topic5\", \"Topic5\", \"Topic5\", \"Topic5\", \"Topic5\", \"Topic5\", \"Topic5\", \"Topic6\", \"Topic6\", \"Topic6\", \"Topic6\", \"Topic6\", \"Topic6\", \"Topic6\", \"Topic6\", \"Topic6\", \"Topic6\", \"Topic6\", \"Topic6\", \"Topic6\", \"Topic6\", \"Topic6\", \"Topic6\", \"Topic6\", \"Topic6\", \"Topic6\", \"Topic6\", \"Topic6\", \"Topic6\", \"Topic6\", \"Topic6\", \"Topic6\", \"Topic6\", \"Topic6\", \"Topic6\", \"Topic6\", \"Topic6\", \"Topic6\", \"Topic6\", \"Topic6\", \"Topic6\", \"Topic6\", \"Topic6\", \"Topic6\", \"Topic6\", \"Topic6\", \"Topic6\", \"Topic6\", \"Topic6\", \"Topic6\", \"Topic6\", \"Topic6\", \"Topic6\", \"Topic6\", \"Topic6\", \"Topic6\", \"Topic6\", \"Topic6\", \"Topic6\", \"Topic6\", \"Topic6\", \"Topic6\", \"Topic6\", \"Topic6\", \"Topic6\", \"Topic6\", \"Topic6\", \"Topic6\", \"Topic6\", \"Topic6\", \"Topic6\", \"Topic6\", \"Topic6\", \"Topic6\", \"Topic6\", \"Topic6\", \"Topic6\", \"Topic6\", \"Topic6\", \"Topic6\", \"Topic6\", \"Topic6\", \"Topic6\", \"Topic6\", \"Topic6\", \"Topic6\", \"Topic6\", \"Topic6\", \"Topic6\", \"Topic6\", \"Topic6\", \"Topic7\", \"Topic7\", \"Topic7\", \"Topic7\", \"Topic7\", \"Topic7\", \"Topic7\", \"Topic7\", \"Topic7\", \"Topic7\", \"Topic7\", \"Topic7\", \"Topic7\", \"Topic7\", \"Topic7\", \"Topic7\", \"Topic7\", \"Topic7\", \"Topic7\", \"Topic7\", \"Topic7\", \"Topic7\", \"Topic7\", \"Topic7\", \"Topic7\", \"Topic7\", \"Topic7\", \"Topic7\", \"Topic7\", \"Topic7\", \"Topic7\", \"Topic7\", \"Topic7\", \"Topic7\", \"Topic7\", \"Topic7\", \"Topic7\", \"Topic7\", \"Topic7\", \"Topic7\", \"Topic7\", \"Topic7\", \"Topic7\", \"Topic7\", \"Topic7\", \"Topic7\", \"Topic7\", \"Topic7\", \"Topic7\", \"Topic7\", \"Topic7\", \"Topic7\", \"Topic7\", \"Topic7\", \"Topic7\", \"Topic7\", \"Topic7\", \"Topic7\", \"Topic7\", \"Topic7\", \"Topic7\", \"Topic7\", \"Topic7\", \"Topic7\", \"Topic7\", \"Topic7\", \"Topic7\", \"Topic7\", \"Topic7\", \"Topic7\", \"Topic7\", \"Topic7\", \"Topic7\", \"Topic7\", \"Topic7\", \"Topic7\", \"Topic7\", \"Topic7\", \"Topic7\", \"Topic7\", \"Topic7\", \"Topic7\", \"Topic7\", \"Topic7\", \"Topic7\", \"Topic7\", \"Topic7\"], \"logprob\": [30.0, 29.0, 28.0, 27.0, 26.0, 25.0, 24.0, 23.0, 22.0, 21.0, 20.0, 19.0, 18.0, 17.0, 16.0, 15.0, 14.0, 13.0, 12.0, 11.0, 10.0, 9.0, 8.0, 7.0, 6.0, 5.0, 4.0, 3.0, 2.0, 1.0, -5.2049, -7.9048, -8.581, -7.5905, -9.4144, -7.4943, -7.3897, -6.7517, -7.7555, -6.6169, -8.002, -8.6282, -7.9245, -7.8275, -7.2293, -8.8467, -9.467, -7.3745, -7.3298, -6.8248, -8.8145, -9.2667, -8.6179, -8.573, -7.4329, -9.5066, -9.3094, -8.8787, -6.7245, -8.4972, -6.1979, -5.9222, -5.9151, -6.0483, -7.5633, -7.0181, -6.9018, -5.4724, -5.9155, -5.6631, -5.2776, -6.3523, -5.6797, -4.9814, -6.5304, -5.7958, -6.5025, -6.7097, -5.9984, -5.4623, -5.4706, -6.0205, -5.6564, -5.4466, -5.4113, -6.2678, -5.7895, -6.4669, -5.9523, -5.6779, -6.1929, -5.5117, -6.1715, -6.133, -6.1922, -6.0331, -5.5469, -6.0879, -6.1271, -5.9115, -5.9793, -5.9227, -5.972, -6.0373, -6.3054, -8.1387, -9.3244, -9.3098, -8.6703, -9.6158, -8.7182, -9.0952, -9.0177, -9.592, -8.6151, -8.7937, -8.2859, -9.6555, -7.7308, -8.1292, -8.9899, -9.3098, -9.3659, -8.6302, -9.1347, -8.454, -9.7547, -9.7077, -9.3772, -6.1952, -9.7335, -8.9794, -8.5055, -9.6741, -8.1874, -8.069, -7.9584, -8.7282, -8.5052, -5.1746, -5.5251, -6.159, -6.6031, -7.3248, -8.0365, -5.1878, -6.4329, -7.3388, -5.7043, -6.2478, -6.2849, -5.8552, -7.0006, -7.0025, -6.3976, -6.7402, -6.4146, -6.3689, -6.7782, -6.8037, -6.6074, -5.3462, -5.7196, -6.3155, -6.4412, -6.6213, -6.0667, -6.0192, -6.3199, -6.0587, -5.9326, -5.1399, -5.5366, -6.0377, -6.4795, -5.4737, -5.8862, -5.6559, -5.8736, -5.9915, -5.8704, -5.7306, -5.8286, -5.8936, -5.9825, -6.1716, -6.0572, -6.0375, -6.1279, -6.0737, -6.163, -8.4005, -6.3407, -8.4581, -7.3482, -8.1787, -8.5184, -9.1996, -9.1938, -8.6687, -9.5278, -7.82, -9.2876, -7.9235, -8.0188, -8.8803, -9.2266, -9.2711, -9.1148, -8.8434, -8.8341, -8.0608, -8.5604, -8.4391, -9.3139, -9.4876, -9.2885, -9.4763, -9.3339, -9.5316, -8.5388, -8.2914, -7.4341, -7.1647, -8.3219, -7.9513, -7.3506, -6.9561, -7.6894, -7.6743, -7.3014, -8.0792, -6.9463, -7.2502, -5.5413, -6.269, -5.3994, -5.8397, -6.285, -6.1688, -5.8439, -7.1978, -5.2701, -5.7099, -6.374, -5.924, -6.2321, -6.9454, -5.7819, -5.4552, -6.5422, -6.5121, -5.1603, -6.5902, -5.5569, -6.2279, -6.195, -5.7881, -5.657, -5.7489, -5.5617, -5.8528, -6.0604, -5.6078, -5.8872, -5.6758, -6.091, -5.9374, -5.7251, -5.8099, -6.0287, -5.9968, -6.1314, -7.1853, -9.3337, -7.6652, -8.8528, -9.1148, -8.3937, -9.2416, -7.6001, -8.6619, -9.1768, -9.7358, -8.9666, -9.7154, -7.864, -8.9947, -7.3115, -9.4566, -9.7693, -8.2082, -9.2349, -9.7466, -9.7394, -9.4271, -7.2093, -9.7704, -9.7583, -9.4762, -9.0719, -9.6902, -8.5268, -7.0788, -6.8958, -6.7504, -7.3389, -6.0705, -7.7091, -7.259, -8.1001, -5.9454, -7.7827, -6.4722, -7.1683, -6.9267, -7.5762, -5.6971, -6.5696, -5.93, -5.6595, -5.968, -6.3758, -6.3202, -6.4168, -6.5873, -5.3745, -6.8401, -6.0209, -5.6706, -6.1405, -6.3404, -5.3787, -5.9737, -5.384, -5.5261, -5.7783, -6.0883, -5.7603, -5.1683, -5.6892, -6.2865, -6.1313, -5.6017, -5.544, -5.5572, -5.8909, -5.7981, -5.7278, -5.9427, -5.9779, -6.0556, -6.1284, -5.9718, -5.9054, -8.645, -9.0468, -8.7214, -8.1936, -8.7553, -8.3093, -7.4609, -8.635, -7.2995, -8.9428, -8.2968, -9.7848, -9.7597, -9.4953, -9.1094, -9.3986, -9.0879, -6.933, -9.1186, -9.7883, -7.1618, -8.9178, -8.868, -9.3496, -9.7899, -9.2039, -9.0008, -8.8151, -6.6825, -9.5591, -8.9737, -6.2803, -7.6011, -6.5542, -6.5872, -8.1635, -7.1862, -6.1013, -7.7258, -5.245, -8.0966, -6.4165, -6.1874, -6.5639, -7.0936, -5.8832, -5.9075, -6.2455, -6.6085, -5.6842, -6.2696, -6.3985, -5.7685, -6.4683, -6.3529, -5.0278, -5.3469, -6.3433, -6.5971, -5.6722, -6.3644, -5.6508, -5.5537, -6.0181, -5.7798, -5.5767, -5.8341, -5.8423, -6.223, -5.6377, -5.9561, -5.6541, -5.9548, -6.14, -5.6731, -5.9147, -5.7256, -6.1312, -6.1031, -6.105, -5.9757, -6.1046, -6.1801, -8.7326, -9.0785, -7.9143, -7.1224, -7.6453, -7.9624, -9.1939, -9.0857, -9.785, -8.2968, -9.7624, -8.7827, -7.5539, -8.6993, -9.4904, -8.6293, -8.8609, -8.2692, -9.2921, -9.8156, -9.4844, -7.5055, -9.1143, -9.4315, -9.5419, -9.282, -8.714, -9.5005, -8.313, -7.6633, -7.1374, -6.2744, -6.96, -8.0802, -8.3831, -7.8839, -5.6307, -7.2607, -6.377, -6.7814, -7.3841, -7.8672, -7.4551, -5.6614, -6.6819, -5.2427, -6.7071, -7.3149, -7.4411, -5.676, -5.3867, -6.7199, -5.0092, -6.177, -5.6848, -6.4149, -6.4556, -6.3283, -5.4701, -6.0648, -6.5815, -5.8172, -6.3251, -5.478, -6.061, -6.0819, -6.0557, -5.5139, -5.7904, -5.6162, -6.3682, -5.8336, -6.0034, -6.1916, -5.7653, -6.1329, -5.8417, -5.8758, -6.1205, -6.1353, -5.8001, -5.87, -6.1587, -6.1627, -8.5044, -8.2216, -9.1645, -9.1015, -7.9622, -9.1547, -9.1997, -8.6529, -9.6961, -8.8218, -7.9152, -9.3297, -9.3754, -9.6438, -8.8872, -9.6842, -9.7236, -8.7328, -9.1928, -9.3984, -9.3492, -9.6835, -9.7385, -9.719, -9.0881, -9.717, -9.715, -9.7131, -9.213, -7.4972, -7.5407, -7.4772, -7.5948, -7.0091, -7.9746, -5.5326, -7.7774, -7.1909, -7.6711, -8.1244, -7.1602, -5.8734, -7.5894, -6.3564, -7.0133, -7.9845, -5.9002, -6.3625, -6.0136, -7.137, -5.9267, -6.2146, -6.7073, -6.4318, -5.4406, -6.7152, -5.4822, -5.3886, -5.828, -5.097, -5.4363, -5.4425, -6.4401, -6.3172, -6.0718, -6.6841, -6.0163, -6.0943, -6.2442, -5.6949, -5.6463, -6.1538, -6.4584, -6.0529, -5.8294, -5.9619, -5.684, -6.2156, -5.9498, -5.9636, -5.983, -5.9588, -5.746, -5.9145, -6.0693, -6.0989, -6.1312], \"loglift\": [30.0, 29.0, 28.0, 27.0, 26.0, 25.0, 24.0, 23.0, 22.0, 21.0, 20.0, 19.0, 18.0, 17.0, 16.0, 15.0, 14.0, 13.0, 12.0, 11.0, 10.0, 9.0, 8.0, 7.0, 6.0, 5.0, 4.0, 3.0, 2.0, 1.0, 0.241, 0.1972, 0.1961, 0.1935, 0.1883, 0.1849, 0.1782, 0.1758, 0.1757, 0.1754, 0.1752, 0.175, 0.1744, 0.1702, 0.1701, 0.1664, 0.1614, 0.16, 0.1599, 0.1592, 0.1579, 0.1576, 0.1569, 0.1569, 0.1559, 0.1553, 0.155, 0.1543, 0.1537, 0.1537, 0.1481, 0.1395, 0.139, 0.1383, 0.1502, 0.1428, 0.1406, 0.1207, 0.1293, 0.12, 0.1074, 0.126, 0.1121, 0.0656, 0.1274, 0.0905, 0.1189, 0.1263, 0.0952, 0.0604, 0.0576, 0.0893, 0.0634, 0.0373, 0.0259, 0.0823, 0.033, 0.0992, 0.046, 0.0028, 0.0617, -0.0614, 0.056, 0.0373, 0.0512, 0.007, -0.1392, 0.0158, 0.0278, -0.0694, -0.0561, -0.1339, -0.0978, -0.1261, 0.5532, 0.4966, 0.4695, 0.4423, 0.4339, 0.4199, 0.4196, 0.4158, 0.4077, 0.4075, 0.405, 0.4043, 0.4015, 0.3999, 0.3966, 0.3949, 0.3828, 0.3804, 0.3796, 0.3796, 0.3747, 0.3734, 0.3733, 0.3729, 0.3713, 0.3709, 0.3708, 0.3707, 0.3706, 0.3703, 0.3698, 0.3588, 0.3575, 0.3621, 0.3552, 0.2757, 0.2637, 0.2754, 0.2907, 0.3139, 0.3389, 0.2198, 0.2602, 0.3056, 0.2069, 0.2296, 0.2246, 0.1849, 0.2654, 0.2655, 0.2177, 0.2383, 0.2078, 0.2014, 0.239, 0.2389, 0.2168, 0.091, 0.1225, 0.1772, 0.1884, 0.2019, 0.1215, 0.1112, 0.1537, 0.0962, 0.0657, -0.0929, -0.0138, 0.066, 0.1672, -0.0887, -0.0121, -0.1277, -0.0511, -0.0683, -0.1505, -0.2468, -0.2355, -0.2129, -0.1994, -0.0013, -0.1709, -0.2456, -0.0831, -0.6278, -0.0561, 0.8627, 0.7705, 0.7527, 0.7468, 0.7339, 0.7251, 0.7215, 0.7121, 0.7104, 0.6898, 0.6879, 0.6873, 0.6852, 0.6806, 0.6803, 0.6759, 0.6742, 0.6731, 0.6605, 0.6597, 0.6564, 0.6563, 0.6557, 0.6549, 0.6522, 0.6508, 0.648, 0.6469, 0.6463, 0.6436, 0.6373, 0.6269, 0.6187, 0.6305, 0.6163, 0.5952, 0.581, 0.6022, 0.5854, 0.5508, 0.6065, 0.5047, 0.5092, 0.3329, 0.4096, 0.2813, 0.3111, 0.3642, 0.3347, 0.2631, 0.4683, 0.1375, 0.2133, 0.3263, 0.2174, 0.2453, 0.41, 0.1292, 0.0287, 0.282, 0.2707, -0.1133, 0.2909, -0.0288, 0.1695, 0.1494, 0.0007, -0.064, -0.0291, -0.1245, -0.0107, 0.07, -0.1575, -0.1041, -0.23, 0.0127, -0.1149, -0.3401, -0.2871, -0.1424, -0.2049, -0.0216, 0.5675, 0.544, 0.5158, 0.4641, 0.4623, 0.4526, 0.4461, 0.4432, 0.4409, 0.4408, 0.4312, 0.4156, 0.4138, 0.4105, 0.4104, 0.4074, 0.4009, 0.3984, 0.3979, 0.3977, 0.3916, 0.3913, 0.3892, 0.3883, 0.381, 0.3809, 0.3774, 0.376, 0.3742, 0.3727, 0.3692, 0.3664, 0.3639, 0.3614, 0.3335, 0.3596, 0.3466, 0.3628, 0.298, 0.3421, 0.2863, 0.312, 0.2946, 0.327, 0.226, 0.2734, 0.2208, 0.1826, 0.2023, 0.2314, 0.2225, 0.2267, 0.2369, 0.1094, 0.2583, 0.1673, 0.1182, 0.1602, 0.1862, 0.0289, 0.1199, 0.001, -0.0033, 0.0442, 0.1101, 0.0316, -0.1213, -0.0086, 0.1479, 0.0962, -0.0735, -0.0938, -0.12, -0.0167, -0.0782, -0.1348, -0.0564, -0.0667, -0.0573, 0.002, -0.1888, -0.4596, 0.5717, 0.5602, 0.5417, 0.5394, 0.5248, 0.4999, 0.4938, 0.4848, 0.4839, 0.4802, 0.4755, 0.472, 0.4692, 0.456, 0.4513, 0.4502, 0.4489, 0.4416, 0.4376, 0.4362, 0.4358, 0.4319, 0.4294, 0.427, 0.4252, 0.4234, 0.42, 0.4192, 0.416, 0.4158, 0.412, 0.3837, 0.3931, 0.3619, 0.3567, 0.397, 0.351, 0.2961, 0.3732, 0.2389, 0.3873, 0.2949, 0.2803, 0.3009, 0.3266, 0.2472, 0.2433, 0.2579, 0.2725, 0.19, 0.2375, 0.2365, 0.1427, 0.232, 0.2133, 0.0192, 0.0608, 0.1834, 0.2262, 0.0477, 0.1783, 0.0299, -0.0255, 0.0888, 0.009, -0.0539, 0.008, -0.0198, 0.123, -0.1874, -0.033, -0.2082, -0.0685, 0.0482, -0.2881, -0.1229, -0.2884, 0.0102, -0.049, -0.1067, -0.3826, -0.3215, -0.0098, 0.5305, 0.5217, 0.4782, 0.4752, 0.4706, 0.4685, 0.465, 0.4558, 0.4426, 0.4388, 0.4361, 0.4315, 0.4297, 0.4274, 0.4259, 0.4227, 0.4192, 0.4174, 0.4168, 0.4091, 0.4077, 0.4073, 0.4056, 0.4038, 0.4034, 0.4032, 0.4018, 0.3988, 0.3982, 0.3977, 0.3889, 0.3691, 0.3762, 0.3858, 0.3856, 0.3731, 0.2805, 0.3448, 0.3016, 0.317, 0.3349, 0.3597, 0.3283, 0.2128, 0.2754, 0.1649, 0.2714, 0.3179, 0.3242, 0.1465, 0.0971, 0.2379, 0.0378, 0.1732, 0.1071, 0.1923, 0.1935, 0.1751, 0.0581, 0.1234, 0.2044, 0.0692, 0.1523, -0.0321, 0.0898, 0.0884, 0.0747, -0.0636, -0.0016, -0.0935, 0.1389, -0.0505, -0.0051, 0.063, -0.1722, 0.0085, -0.1611, -0.1559, -0.0168, -0.0284, -0.3629, -0.485, -0.0969, -0.2395, 0.7098, 0.6343, 0.6234, 0.6172, 0.5983, 0.5882, 0.5769, 0.5638, 0.5604, 0.559, 0.5547, 0.5523, 0.5457, 0.5395, 0.5358, 0.5357, 0.5308, 0.5304, 0.5285, 0.524, 0.5234, 0.5221, 0.5183, 0.5131, 0.5121, 0.5119, 0.5079, 0.4901, 0.4867, 0.4864, 0.4843, 0.4775, 0.4662, 0.4419, 0.4637, 0.3786, 0.445, 0.4066, 0.4239, 0.4431, 0.3769, 0.2774, 0.4047, 0.2903, 0.3421, 0.4245, 0.2067, 0.2538, 0.214, 0.3274, 0.1669, 0.1828, 0.2499, 0.2032, 0.0432, 0.2424, 0.0405, 0.0191, 0.0951, -0.0501, 0.0139, -0.0053, 0.1882, 0.1506, 0.0696, 0.2319, 0.0379, 0.0606, 0.1002, -0.1018, -0.1181, 0.0446, 0.1489, -0.0081, -0.1095, -0.0755, -0.2381, 0.0278, -0.1273, -0.1214, -0.1089, -0.1669, -0.361, -0.2339, -0.071, -0.3101, -0.3481]}, \"token.table\": {\"Topic\": [1, 2, 3, 4, 1, 2, 3, 1, 2, 1, 1, 2, 3, 1, 2, 3, 4, 1, 2, 3, 1, 2, 3, 4, 1, 2, 3, 4, 1, 2, 3, 1, 2, 3, 1, 2, 3, 1, 2, 3, 1, 2, 3, 1, 2, 3, 1, 2, 3, 1, 2, 1, 2, 3, 1, 2, 3, 4, 5, 1, 3, 1, 2, 1, 2, 3, 1, 2, 3, 4, 5, 6, 1, 2, 3, 4, 5, 1, 2, 1, 2, 3, 4, 5, 6, 1, 2, 3, 4, 1, 2, 3, 4, 5, 6, 1, 2, 3, 4, 5, 1, 2, 3, 4, 5, 6, 1, 2, 3, 4, 5, 6, 1, 2, 1, 2, 3, 4, 5, 6, 1, 2, 1, 2, 3, 4, 5, 6, 1, 2, 1, 2, 3, 1, 2, 3, 4, 5, 1, 2, 3, 4, 5, 1, 2, 3, 1, 3, 1, 1, 2, 3, 4, 5, 6, 1, 1, 2, 3, 4, 5, 1, 2, 3, 4, 1, 2, 3, 4, 5, 6, 1, 2, 4, 1, 2, 3, 4, 1, 2, 3, 4, 5, 1, 1, 1, 2, 3, 1, 2, 3, 4, 5, 6, 1, 2, 3, 4, 1, 2, 3, 1, 2, 3, 4, 5, 6, 1, 2, 1, 2, 3, 4, 5, 6, 1, 2, 3, 4, 5, 6, 1, 2, 3, 4, 1, 2, 3, 4, 5, 1, 2, 3, 4, 5, 1, 2, 3, 4, 5, 1, 2, 3, 1, 2, 3, 4, 1, 2, 1, 2, 3, 4, 5, 6, 1, 2, 3, 4, 5, 6, 1, 1, 2, 1, 2, 3, 4, 5, 1, 2, 3, 1, 2, 3, 4, 5, 6, 1, 2, 3, 4, 1, 2, 3, 1, 1, 2, 3, 4, 5, 6, 1, 2, 3, 4, 5, 1, 2, 3, 4, 5, 6, 1, 2, 3, 4, 5, 1, 2, 3, 4, 5, 6, 1, 2, 3, 4, 1, 2, 3, 4, 1, 2, 3, 1, 2, 3, 1, 2, 3, 1, 2, 1, 1, 2, 3, 4, 5, 6, 1, 2, 3, 1, 2, 3, 1, 2, 3, 4, 5, 1, 2, 3, 4, 5, 1, 2, 3, 4, 5, 6, 1, 2, 1, 2, 3, 4, 5, 1, 2, 1, 1, 2, 3, 1, 2, 3, 4, 5, 6, 1, 2, 3, 4, 5, 1, 2, 3, 4, 1, 2, 3, 4, 5, 1, 2, 3, 4, 5, 6, 1, 2, 3, 4, 5, 1, 2, 3, 4, 1, 3, 1, 2, 1, 2, 3, 4, 1, 2, 3, 4, 5, 1, 2, 3, 4, 5, 1, 2, 3, 1, 2, 1, 2, 3, 4, 5, 1, 2, 3, 4, 1, 2, 1, 2, 3, 4, 5, 6, 1, 2, 3, 4, 1, 2, 1, 2, 3, 4, 5, 6, 1, 2, 1, 2, 3, 4, 5, 1, 2, 3, 1, 2, 3, 4, 5, 1, 2, 3, 4, 5, 6, 1, 2, 1, 1, 2, 3, 4, 1, 2, 3, 4, 5, 6, 1, 2, 3, 4, 1, 2, 3, 4, 5, 6, 1, 2, 3, 4, 5, 6, 1, 2, 3, 1, 2, 1, 2, 3, 4, 5, 1, 2, 3, 4, 5, 1, 2, 3, 4, 5, 1, 1, 2, 3, 4, 5, 1, 2, 3, 4, 5, 1, 2, 3, 4, 1, 2, 3, 4, 5, 6, 1, 2, 3, 4, 5, 1, 2, 1, 2, 1, 2, 1, 2, 3, 4, 5, 1, 2, 3, 4, 5, 6, 1, 2, 3, 1, 2, 3, 4, 5, 1, 2, 3, 4, 1, 2, 3, 4, 5, 6, 1, 2, 3, 4, 1, 2, 3, 1, 2, 3, 4, 1, 2, 1, 2, 3, 1, 2, 3, 4, 5, 1, 2, 3, 4, 1, 1, 2, 3, 4, 5, 6, 1, 2, 3, 4, 5, 6, 1, 2, 3, 4, 5, 6, 1, 2, 3, 4, 1, 2, 3, 4, 1, 2, 3, 4, 5, 6, 1, 2, 3, 1, 2, 3, 4, 5, 6, 1, 2, 3, 4, 5, 6, 1, 2, 3, 1, 2, 1, 2, 3, 4, 5, 1, 2, 3, 4, 5, 6, 1, 2, 3, 4, 5, 6, 1, 2, 3, 4, 5, 6, 1, 2, 3, 1, 2, 3, 4, 5, 6, 1, 2, 3, 4, 5, 1, 2, 3, 4, 5, 1, 2, 3, 4, 5, 6, 1, 2, 3, 1, 2, 3, 1, 2, 3, 4, 5, 6, 1, 2, 3, 4, 1, 2, 3, 4, 5, 6, 1, 1, 2, 3, 4, 5, 6, 1, 2, 3, 1, 2, 3, 4, 5, 6, 1, 2, 3, 4, 5, 1, 2, 3, 4, 5, 6, 1, 2, 3, 4, 1, 2, 3, 4, 5, 1, 2, 3, 4, 5, 1, 2, 3, 4, 5, 1, 2, 3, 4, 5, 6, 1, 2, 3, 4, 5, 1, 2, 3, 1, 2, 3, 1, 2, 3, 4, 5, 6, 1, 2, 3, 4, 5, 1, 2, 3, 1, 1, 2, 3, 4, 5, 1, 2, 3, 4, 5, 1, 2, 3, 4, 1, 2, 3, 4, 5, 1, 2, 1, 2, 3, 1, 2, 3, 4, 5, 6, 1, 2, 1, 2, 3, 4, 5, 6, 1, 2, 3, 4, 1, 2, 3, 4, 5, 6, 1, 2, 3, 4, 5, 1, 2, 3, 4, 5, 1, 2, 3, 4, 5, 1, 2, 3, 4, 5, 1, 2, 3, 1, 2, 3, 4, 5, 6, 1, 1, 2, 1, 2, 3, 4, 5, 1, 2, 3, 4, 5, 1, 2, 3, 1, 2, 3, 4, 5, 1, 1, 2, 3, 4, 5, 1, 2, 1, 2, 3, 4, 5, 1, 2, 3, 4, 5, 1, 2, 3, 4, 5, 1, 2, 3, 4, 5, 1, 2, 3, 4, 5, 1, 2, 3, 1, 2, 3, 4, 5, 6, 1, 2, 3, 4, 1, 2, 3, 4, 5, 1, 2, 1, 2, 3, 4, 5, 1, 2, 3, 4, 5, 1, 2, 3, 4, 5, 1, 2, 3, 1, 2, 3, 4, 5, 1, 2, 3, 1, 2, 3, 1, 2, 3, 4, 5, 1, 2, 3, 1, 2, 3, 4, 5, 6, 1, 2, 3, 4, 5, 6, 1, 2, 3, 4, 5, 1, 2, 3, 4, 5, 6, 1, 2, 3, 4, 1, 2, 3, 4, 5, 1, 2, 3, 4, 5, 6, 1, 2, 3, 4, 5, 1, 2, 3, 4, 5, 6, 1, 2, 3, 4, 5, 6, 1, 2, 1, 2, 3, 4, 5, 1, 2, 1, 2, 3, 1, 2, 3, 4, 5, 6, 1, 2, 3, 4, 5, 6, 1, 2, 3, 1, 2, 3, 4, 5, 6, 1, 2, 3, 1, 2, 3, 4, 5, 6, 1, 2, 1, 2, 3, 4, 5, 1, 2, 3, 1, 2, 3, 4, 5, 6, 1, 2, 3, 4, 5, 1, 2, 3, 1, 2, 3, 1, 2, 1, 2, 3, 4, 5, 1, 2, 3, 1, 2, 3, 5, 1, 2, 3, 1, 2, 1, 2, 3, 4, 5, 6, 1, 2, 1, 2, 3, 4, 1, 2, 3, 4, 1, 2, 3, 4, 5, 1, 2, 3, 4, 5, 1, 2, 3, 4, 1, 2, 3, 4, 5, 6, 1, 2, 3, 4, 5, 1, 2, 3, 4, 5, 6, 1, 2, 3, 4, 5, 6, 1, 2, 3, 4, 5, 6, 1, 2, 3, 4, 5, 6, 1, 2, 3, 4, 5, 6, 1, 2, 3, 4, 5, 6, 1, 2, 3, 4, 5, 6, 1, 2, 3, 4, 5, 6, 1, 2, 3, 4, 5, 6, 1, 2, 3, 4, 5, 6, 1, 2, 3, 1, 2, 3, 4, 5, 6, 1, 2, 1, 2, 3, 4, 5, 6, 1, 2, 3, 4, 5, 6, 1, 2, 3, 4, 5, 6, 1, 2, 3, 4, 5, 6, 1, 2, 3, 4, 1, 2, 3, 4, 5, 6, 1, 2, 3, 4, 5, 1, 2, 3, 1, 2, 3, 4, 5, 1, 2, 3, 4, 1, 2, 3, 4, 1, 2, 3, 4, 5, 1, 2, 3, 4, 5, 6, 1, 2, 3, 4, 1, 1, 2, 3, 4, 5, 6, 1, 2, 3, 4, 5, 6, 1, 2, 3, 4, 5, 1, 2, 3, 4, 5, 6, 1, 2, 3, 4, 5, 1, 2, 3, 1, 2, 1, 2, 3, 4, 1, 2, 3, 4, 5, 6, 1, 2, 3, 4, 1, 2, 3, 4, 5, 6, 1, 2, 3, 4, 5, 6, 1, 2, 3, 4, 5, 1, 2, 3, 4, 5, 6, 1, 2, 3, 4, 5, 6, 1, 2, 3, 4, 5, 6, 1, 2, 3, 4, 5, 1, 2, 3, 4, 5, 6, 1, 2, 3, 4, 5, 6, 1, 2, 3, 4, 5, 6], \"Freq\": [0.43819347047176455, 0.2921289803145097, 0.14606449015725484, 0.14606449015725484, 0.4313293280958221, 0.21566466404791104, 0.21566466404791104, 0.44982831840283877, 0.44982831840283877, 0.4077397427929505, 0.4874955988465218, 0.16249853294884062, 0.32499706589768124, 0.40232246556553547, 0.16092898622621418, 0.2413934793393213, 0.08046449311310709, 0.4341285736353352, 0.1447095245451117, 0.2894190490902234, 0.5316852184803016, 0.2658426092401508, 0.1329213046200754, 0.1329213046200754, 0.39680847773462596, 0.19840423886731298, 0.19840423886731298, 0.09920211943365649, 0.4451110470422547, 0.14837034901408488, 0.14837034901408488, 0.48917234973859786, 0.3261148998257319, 0.16305744991286594, 0.3245584050331139, 0.3245584050331139, 0.3245584050331139, 0.47388269341824707, 0.15796089780608236, 0.15796089780608236, 0.4904036579714202, 0.1634678859904734, 0.1634678859904734, 0.33876173679576366, 0.33876173679576366, 0.33876173679576366, 0.5415390310381339, 0.27076951551906697, 0.27076951551906697, 0.38782682775914135, 0.38782682775914135, 0.5235827430364056, 0.2617913715182028, 0.2617913715182028, 0.5018501614257955, 0.16728338714193186, 0.16728338714193186, 0.11152225809462124, 0.02788056452365531, 0.4274478468726295, 0.4274478468726295, 0.6423293238595943, 0.32116466192979715, 0.4797758825464283, 0.23988794127321414, 0.23988794127321414, 0.5896175531724925, 0.18425548536640393, 0.12283699024426929, 0.061418495122134646, 0.036851097073280784, 0.012283699024426928, 0.49499004617624426, 0.2749944700979135, 0.10999778803916539, 0.054998894019582696, 0.054998894019582696, 0.4512838847554123, 0.4512838847554123, 0.5927941385790166, 0.175794123854467, 0.11447059227732735, 0.0695000024540916, 0.036794118946283795, 0.008176470876951954, 0.6318821968873817, 0.10531369948123029, 0.10531369948123029, 0.10531369948123029, 0.614356535967, 0.1755304388477143, 0.11702029256514286, 0.05851014628257143, 0.029255073141285715, 0.007313768285321429, 0.5471380482177148, 0.2015771756591581, 0.1151869575195189, 0.1151869575195189, 0.028796739379879727, 0.5816454584922862, 0.19205274572858508, 0.10425720482408904, 0.07682109829143403, 0.032923327839186015, 0.010974442613062005, 0.5461869163373562, 0.1941997924755044, 0.12137487029719025, 0.08496240920803318, 0.03641246108915708, 0.012137487029719025, 0.37814817556587116, 0.37814817556587116, 0.5219003594397088, 0.20366843295208148, 0.12729277059505092, 0.08910493941653565, 0.05091710823802037, 0.012729277059505092, 0.3740217846853975, 0.3740217846853975, 0.49259409968967477, 0.25376059680983243, 0.10448965750993101, 0.08956256357994087, 0.044781281789970435, 0.014927093929990145, 0.6035784649266117, 0.20119282164220392, 0.4388303473627869, 0.21941517368139346, 0.21941517368139346, 0.6656873885619206, 0.15918611465611143, 0.07235732484368701, 0.05788585987494961, 0.028942929937474805, 0.5089482677632939, 0.27143907614042345, 0.10178965355265879, 0.06785976903510586, 0.03392988451755293, 0.6401563645433214, 0.12803127290866428, 0.12803127290866428, 0.44477388501795706, 0.44477388501795706, 0.44574486524303825, 0.5557513096091812, 0.2020913853124295, 0.11788664143225054, 0.06736379510414317, 0.05052284632810738, 0.016840948776035793, 0.447945520963455, 0.50086958486142, 0.18782609432303252, 0.125217396215355, 0.0626086981076775, 0.0626086981076775, 0.6004413729472894, 0.15011034323682235, 0.15011034323682235, 0.07505517161841117, 0.6232570412988482, 0.17312695591634672, 0.10387617354980803, 0.06925078236653869, 0.023083594122179564, 0.011541797061089782, 0.46877088204336487, 0.23438544102168243, 0.23438544102168243, 0.5071589363689608, 0.2535794681844804, 0.0845264893948268, 0.0845264893948268, 0.6418696632114529, 0.16046741580286322, 0.06418696632114529, 0.06418696632114529, 0.032093483160572644, 0.4625361831290427, 0.44981067812961617, 0.33671151617182926, 0.33671151617182926, 0.33671151617182926, 0.563752540602046, 0.16262092517366714, 0.16262092517366714, 0.054206975057889045, 0.04336558004631123, 0.010841395011577808, 0.44301859167454194, 0.33226394375590645, 0.11075464791863548, 0.11075464791863548, 0.5225003647036841, 0.17416678823456136, 0.17416678823456136, 0.48839265630256623, 0.21119682434705567, 0.15839761826029175, 0.07919880913014588, 0.03959940456507294, 0.01319980152169098, 0.4614378550601491, 0.4614378550601491, 0.5992058476778849, 0.1733240055266609, 0.1138986322032343, 0.06932960221066437, 0.03961691554895106, 0.009904228887237765, 0.47532416358705204, 0.2535062205797611, 0.1478786286715273, 0.07393931433576365, 0.04225103676329351, 0.010562759190823378, 0.487263043442119, 0.1949052173768476, 0.1949052173768476, 0.0974526086884238, 0.6485452967762323, 0.16736652820031803, 0.10460408012519876, 0.06276244807511926, 0.020920816025039753, 0.46273730809676505, 0.23136865404838253, 0.13882119242902952, 0.09254746161935301, 0.046273730809676505, 0.4286964393914358, 0.2857976262609572, 0.1428988131304786, 0.09526587542031907, 0.047632937710159536, 0.32564395878605806, 0.32564395878605806, 0.32564395878605806, 0.6780076751701989, 0.13560153503403977, 0.09040102335602651, 0.09040102335602651, 0.615126198284411, 0.3075630991422055, 0.5338993938434633, 0.2269072423834719, 0.12012736361477924, 0.06673742423043291, 0.05338993938434633, 0.013347484846086582, 0.5976753941711301, 0.1707643983346086, 0.11953507883422602, 0.06830575933384345, 0.03415287966692172, 0.01707643983346086, 0.4623662810378441, 0.5564129745414405, 0.2782064872707202, 0.42597336997055674, 0.15974001373895877, 0.266233356231598, 0.05324667124631959, 0.05324667124631959, 0.43567193197039344, 0.21783596598519672, 0.21783596598519672, 0.43796230992345997, 0.17916639951414273, 0.25879591040931726, 0.07962951089517455, 0.03981475544758727, 0.019907377723793637, 0.5019809445057769, 0.12549523612644423, 0.25099047225288845, 0.12549523612644423, 0.3845820702551585, 0.19229103512757925, 0.19229103512757925, 0.447103390084076, 0.545801714357348, 0.22939492342555207, 0.08701186750624389, 0.08701186750624389, 0.039550848866474496, 0.007910169773294898, 0.5241360077470414, 0.20965440309881656, 0.10482720154940828, 0.10482720154940828, 0.10482720154940828, 0.6627038530231235, 0.11597317427904662, 0.09940557795346852, 0.06627038530231236, 0.03313519265115618, 0.01656759632557809, 0.5102282131224863, 0.21866923419535128, 0.14577948946356753, 0.07288974473178376, 0.07288974473178376, 0.4913534144714236, 0.2456767072357118, 0.14740602434142708, 0.06551378859618981, 0.04913534144714236, 0.016378447149047452, 0.48063436070059024, 0.1922537442802361, 0.1922537442802361, 0.09612687214011804, 0.457925967137381, 0.34344447535303574, 0.11448149178434525, 0.11448149178434525, 0.3468053794351241, 0.3468053794351241, 0.3468053794351241, 0.387147253134072, 0.193573626567036, 0.193573626567036, 0.5299267464095613, 0.26496337320478064, 0.26496337320478064, 0.38160546428439746, 0.38160546428439746, 0.4071502423772992, 0.5055923632675192, 0.2615132913452686, 0.10460531653810744, 0.08717109711508952, 0.03486843884603581, 0.017434219423017906, 0.6014165575090367, 0.20047218583634555, 0.20047218583634555, 0.4433199129410643, 0.1477733043136881, 0.1477733043136881, 0.6414515326739779, 0.10690858877899631, 0.10690858877899631, 0.053454294389498155, 0.053454294389498155, 0.697056721030466, 0.10723949554314861, 0.10723949554314861, 0.05361974777157431, 0.05361974777157431, 0.5469512121523253, 0.18960975354613946, 0.1531463394026511, 0.06563414545827904, 0.03646341414348836, 0.007292682828697671, 0.6068494642184508, 0.3034247321092254, 0.4948429698991787, 0.1903242191919918, 0.1903242191919918, 0.07612968767679672, 0.03806484383839836, 0.43809150325740925, 0.21904575162870463, 0.447839905084536, 0.6498496208442445, 0.1856713202412127, 0.09283566012060634, 0.4732496155019965, 0.2885668387207296, 0.11542673548829184, 0.05771336774414592, 0.04617069419531673, 0.011542673548829183, 0.6504493253342842, 0.14867413150497924, 0.09292133219061202, 0.07433706575248962, 0.03716853287624481, 0.5920520581557214, 0.19735068605190711, 0.19735068605190711, 0.19735068605190711, 0.4978075263841231, 0.2297573198695953, 0.1531715465797302, 0.0765857732898651, 0.03829288664493255, 0.5377263005633524, 0.1897857531400067, 0.15815479428333892, 0.06326191771333557, 0.047446438285001676, 0.015815479428333893, 0.48932815031671417, 0.21747917791853963, 0.16310938343890471, 0.05436979447963491, 0.05436979447963491, 0.36771861965184743, 0.24514574643456497, 0.24514574643456497, 0.12257287321728248, 0.4114720135805667, 0.4114720135805667, 0.5584371005901718, 0.2792185502950859, 0.5198931741559893, 0.2970818138034225, 0.07427045345085563, 0.07427045345085563, 0.5548402063975361, 0.17338756449923, 0.17338756449923, 0.06935502579969201, 0.034677512899846004, 0.4965411115736781, 0.2722967386049202, 0.11212218648437892, 0.08008727606027066, 0.03203491042410826, 0.6801682089644748, 0.13603364179289495, 0.13603364179289495, 0.39711776550503547, 0.39711776550503547, 0.5548427515406115, 0.16318904457076808, 0.13055123565661447, 0.09791342674246084, 0.03263780891415362, 0.7032712375801726, 0.10046731965431037, 0.10046731965431037, 0.10046731965431037, 0.3407899861832932, 0.3407899861832932, 0.5833525218216297, 0.19178713046190565, 0.10388469566686556, 0.07991130435912736, 0.03196452174365094, 0.007991130435912736, 0.4814064905900356, 0.28884389435402136, 0.09628129811800712, 0.09628129811800712, 0.44922874983683414, 0.44922874983683414, 0.519363082535424, 0.23494996590888226, 0.09892630143531884, 0.07419472607648914, 0.04946315071765942, 0.012365787679414856, 0.5547670664681219, 0.27738353323406095, 0.6544687077891618, 0.14543749061981373, 0.07271874530990687, 0.07271874530990687, 0.03635937265495343, 0.4830374658869978, 0.2415187329434989, 0.2415187329434989, 0.5045435894146539, 0.13760279711308743, 0.22933799518847903, 0.04586759903769581, 0.04586759903769581, 0.6039723588154609, 0.17256353109013167, 0.08628176554506584, 0.08628176554506584, 0.04314088277253292, 0.014380294257510973, 0.42309451625769556, 0.42309451625769556, 0.42978891853355394, 0.5052101435279532, 0.2020840574111813, 0.10104202870559065, 0.10104202870559065, 0.6279542317114616, 0.15964938094359193, 0.09578962856615515, 0.07982469047179597, 0.031929876188718384, 0.010643292062906129, 0.61725477861527, 0.1543136946538175, 0.1543136946538175, 0.07715684732690875, 0.6412821339679589, 0.1742614494478149, 0.09061595371286375, 0.048793205845388175, 0.027881831911650386, 0.006970457977912597, 0.513476711513509, 0.20227870453562477, 0.14003910314004792, 0.07779950174447106, 0.04667970104668264, 0.015559900348894214, 0.49293391598785985, 0.24646695799392992, 0.24646695799392992, 0.5822988630525211, 0.29114943152626055, 0.6639254232280419, 0.10622806771648671, 0.10622806771648671, 0.053114033858243356, 0.053114033858243356, 0.6763496517680662, 0.14493206823601418, 0.09662137882400945, 0.048310689412004726, 0.048310689412004726, 0.5088616922572974, 0.16962056408576578, 0.16962056408576578, 0.08481028204288289, 0.08481028204288289, 0.4363651587148915, 0.5123284358306849, 0.25616421791534244, 0.11643828087061021, 0.04657531234824409, 0.04657531234824409, 0.4810846064778469, 0.19243384259113877, 0.09621692129556939, 0.09621692129556939, 0.09621692129556939, 0.6305011643461449, 0.10508352739102415, 0.10508352739102415, 0.10508352739102415, 0.57363846453939, 0.1678941847432361, 0.11192945649549074, 0.0979382744335544, 0.04197354618580903, 0.013991182061936343, 0.6937108820203043, 0.17342772050507607, 0.11561848033671737, 0.057809240168358686, 0.057809240168358686, 0.37078003043791224, 0.37078003043791224, 0.6470165134674858, 0.3235082567337429, 0.49553545888972744, 0.24776772944486372, 0.6661794029458555, 0.15777933227665, 0.08765518459813888, 0.0701241476785111, 0.03506207383925555, 0.5893173145451522, 0.18040325955463846, 0.09621507176247385, 0.09621507176247385, 0.024053767940618462, 0.012026883970309231, 0.45317714778852347, 0.30211809852568233, 0.15105904926284117, 0.6037122747417042, 0.16769785409491783, 0.1006187124569507, 0.06707914163796713, 0.033539570818983566, 0.45583474337765584, 0.22791737168882792, 0.11395868584441396, 0.11395868584441396, 0.53042801773164, 0.18636660082463025, 0.15769481608237945, 0.07167946185562701, 0.04300767711337621, 0.014335892371125404, 0.591648581176272, 0.19721619372542398, 0.09860809686271199, 0.09860809686271199, 0.4611542066330806, 0.2305771033165403, 0.2305771033165403, 0.43764220924398295, 0.14588073641466098, 0.14588073641466098, 0.14588073641466098, 0.5249249605596471, 0.26246248027982355, 0.40514533376215534, 0.40514533376215534, 0.40514533376215534, 0.4437709441619544, 0.2218854720809772, 0.17750837766478175, 0.08875418883239088, 0.04437709441619544, 0.5222078276073812, 0.20888313104295247, 0.10444156552147624, 0.10444156552147624, 0.41626976373856756, 0.6235305248732145, 0.18422492780344973, 0.08502688975543833, 0.07439852853600855, 0.02834229658514611, 0.007085574146286528, 0.5256621133161171, 0.2647219275692676, 0.10210702920528894, 0.06807135280352596, 0.03025393457934487, 0.007563483644836218, 0.5487300151031632, 0.21200932401713124, 0.0872979569482305, 0.09976909365512059, 0.03741341012067022, 0.012471136706890073, 0.5420947963631939, 0.18069826545439796, 0.18069826545439796, 0.18069826545439796, 0.4028780437734407, 0.26858536251562715, 0.13429268125781357, 0.13429268125781357, 0.5766975578840882, 0.19585954796063373, 0.0761676019846909, 0.08704868798250388, 0.04352434399125194, 0.010881085997812985, 0.45029003159174935, 0.22514501579587468, 0.22514501579587468, 0.6343607631172462, 0.1463909453347491, 0.09759396355649942, 0.07319547266737456, 0.03659773633368728, 0.012199245444562428, 0.593648308384104, 0.1992381308960349, 0.08945385468801567, 0.07318951747201281, 0.032528674432005696, 0.008132168608001424, 0.6282481393615669, 0.20941604645385561, 0.20941604645385561, 0.618081947414678, 0.309040973707339, 0.44603084102701324, 0.2548747663011504, 0.1274373831505752, 0.1274373831505752, 0.0637186915752876, 0.5155644169429519, 0.23147790148459063, 0.13678239633180356, 0.06313033676852471, 0.031565168384262356, 0.010521722794754119, 0.4892455063545123, 0.250058814358973, 0.1340895091490145, 0.07610485654403525, 0.03986444866592323, 0.010872122363433608, 0.6141403933005259, 0.1696197276734786, 0.0994322541534185, 0.07018747352006012, 0.03509373676003006, 0.011697912253343353, 0.5316216969536846, 0.17720723231789484, 0.17720723231789484, 0.5934806080867905, 0.15881875427674674, 0.10866546345251094, 0.10030658164847163, 0.03343552721615721, 0.008358881804039302, 0.5293768241876506, 0.18906315149558953, 0.11343789089735372, 0.11343789089735372, 0.037812630299117904, 0.5485599867092579, 0.16456799601277736, 0.10971199734185157, 0.10971199734185157, 0.05485599867092578, 0.6325290175281449, 0.15704168711043598, 0.10905672716002499, 0.06543403629601499, 0.026173614518405997, 0.008724538172801999, 0.48819259584641406, 0.24409629792320703, 0.24409629792320703, 0.3306369324707261, 0.3306369324707261, 0.3306369324707261, 0.582731494628214, 0.156437985135091, 0.12123943847969552, 0.08212994219592278, 0.046931395540527304, 0.00782189925675455, 0.41198304404495245, 0.20599152202247623, 0.20599152202247623, 0.20599152202247623, 0.5887704901308314, 0.2158825130479715, 0.0850446263522312, 0.07196083768265717, 0.03270947167393508, 0.006541894334787015, 0.4394735731035659, 0.5235549417472406, 0.25087007625388613, 0.11998134081707597, 0.05453697309867089, 0.03272218385920254, 0.01090739461973418, 0.5732370737352355, 0.38215804915682366, 0.19107902457841183, 0.6325685894356067, 0.13916508967583346, 0.11386234609840919, 0.06325685894356066, 0.037954115366136396, 0.012651371788712132, 0.6349602142492805, 0.16629910373195442, 0.1058267023748801, 0.06047240135707434, 0.03023620067853717, 0.557652472090122, 0.2602378203087236, 0.09294207868168701, 0.05576524720901221, 0.0371768314726748, 0.0185884157363374, 0.49071308278838033, 0.32714205519225353, 0.08178551379806338, 0.08178551379806338, 0.543811200179878, 0.2175244800719512, 0.1087622400359756, 0.1087622400359756, 0.1087622400359756, 0.519242526655161, 0.21967953050795272, 0.11982519845888331, 0.09985433204906942, 0.03994173281962777, 0.52149298738193, 0.2234969945922557, 0.14899799639483713, 0.07449899819741856, 0.07449899819741856, 0.5661589203710532, 0.2455629052211797, 0.0954966853637921, 0.06821191811699437, 0.027284767246797747, 0.006821191811699437, 0.5093570791362713, 0.20837335055574735, 0.11576297253097075, 0.11576297253097075, 0.0463051890123883, 0.6668011490908393, 0.13336022981816786, 0.13336022981816786, 0.40184648522605443, 0.20092324261302721, 0.20092324261302721, 0.6483166687956962, 0.14818666715330198, 0.11114000036497648, 0.04630833348540687, 0.037046666788325494, 0.009261666697081374, 0.4209072205765149, 0.2590198280470861, 0.12950991402354306, 0.0971324355176573, 0.06475495701177153, 0.38521647287805777, 0.19260823643902888, 0.19260823643902888, 0.44361124011714653, 0.5113140824099952, 0.2556570412049976, 0.11620774600227164, 0.06972464760136299, 0.04648309840090866, 0.5101774580164444, 0.2267455368961975, 0.11337276844809875, 0.08502957633607407, 0.028343192112024688, 0.6486048620720096, 0.10810081034533493, 0.10810081034533493, 0.10810081034533493, 0.489299975526006, 0.253711098420892, 0.126855549210446, 0.07248888526311201, 0.036244442631556004, 0.6580833134855836, 0.3290416567427918, 0.5604079610900179, 0.3736053073933453, 0.18680265369667265, 0.5632634942217806, 0.18268005218003694, 0.09134002609001847, 0.09134002609001847, 0.03044667536333949, 0.015223337681669745, 0.40663231306374764, 0.40663231306374764, 0.5110979001552751, 0.2621014872591155, 0.13105074362955774, 0.06552537181477887, 0.026210148725911545, 0.013105074362955773, 0.36181226095268915, 0.24120817396845945, 0.24120817396845945, 0.12060408698422972, 0.5058917976268184, 0.2630637347659455, 0.09106052357282729, 0.09106052357282729, 0.040471343810145465, 0.010117835952536366, 0.5735740720067309, 0.14339351800168273, 0.14339351800168273, 0.07169675900084137, 0.07169675900084137, 0.6687376694964858, 0.15198583397647406, 0.09119150038588443, 0.06079433359058962, 0.03039716679529481, 0.4838259107392257, 0.18143471652720966, 0.18143471652720966, 0.06047823884240321, 0.06047823884240321, 0.389924098513034, 0.2339544591078204, 0.2339544591078204, 0.07798481970260679, 0.07798481970260679, 0.540126941338418, 0.270063470669209, 0.270063470669209, 0.49086411257718093, 0.2066796263482867, 0.18084467305475088, 0.0645873832338396, 0.038752429940303756, 0.01291747664676792, 0.41080037411308495, 0.5087693305655899, 0.25438466528279496, 0.4117364111038571, 0.20586820555192856, 0.20586820555192856, 0.05146705138798214, 0.05146705138798214, 0.5426891386673209, 0.2110457761484026, 0.12059758637051578, 0.09044818977788682, 0.030149396592628944, 0.28940422697953216, 0.28940422697953216, 0.28940422697953216, 0.5325866343982183, 0.17752887813273943, 0.08876443906636972, 0.08876443906636972, 0.08876443906636972, 0.7214302349562899, 0.6632301578289901, 0.11704061608746884, 0.11704061608746884, 0.03901353869582295, 0.03901353869582295, 0.6299730485551174, 0.3149865242775587, 0.433234658644671, 0.19254873717540932, 0.19254873717540932, 0.09627436858770466, 0.04813718429385233, 0.4536793875152688, 0.1944340232208295, 0.1944340232208295, 0.06481134107360983, 0.06481134107360983, 0.5038985770639228, 0.20155943082556912, 0.20155943082556912, 0.10077971541278456, 0.10077971541278456, 0.4594321843712048, 0.20883281107782037, 0.20883281107782037, 0.08353312443112815, 0.041766562215564074, 0.5022225579710362, 0.18833345923913858, 0.18833345923913858, 0.06277781974637953, 0.06277781974637953, 0.503735032078655, 0.16791167735955168, 0.16791167735955168, 0.6343525267792104, 0.1903057580337631, 0.08458033690389472, 0.06343525267792104, 0.02114508422597368, 0.01057254211298684, 0.5545472673118953, 0.13863681682797382, 0.13863681682797382, 0.13863681682797382, 0.46646995931107604, 0.25117613193673327, 0.1076469136871714, 0.1076469136871714, 0.035882304562390464, 0.7654802693471365, 0.25516008978237886, 0.5083274247503484, 0.17791459866262196, 0.17791459866262196, 0.07624911371255226, 0.050832742475034845, 0.6674857393544047, 0.14052331354829573, 0.10539248516122178, 0.07026165677414786, 0.03513082838707393, 0.6685466039174757, 0.1744034618915154, 0.0872017309457577, 0.0581344872971718, 0.0290672436485859, 0.49913740736689105, 0.16637913578896368, 0.16637913578896368, 0.4385754241598541, 0.2698925687137564, 0.16868285544609773, 0.0674731421784391, 0.03373657108921955, 0.553363208474329, 0.2766816042371645, 0.2766816042371645, 0.5348486012887966, 0.2674243006443983, 0.2674243006443983, 0.6600420275076097, 0.12572229095383042, 0.09429171821537281, 0.06286114547691521, 0.031430572738457604, 0.3509788324108438, 0.3509788324108438, 0.3509788324108438, 0.6045354481079844, 0.1767103617546416, 0.10230599891058198, 0.06510381748855217, 0.027901636066522358, 0.009300545355507452, 0.5618514902046123, 0.16188941243183746, 0.15712795912501873, 0.07618325290909998, 0.03809162645454999, 0.009522906613637498, 0.5958655740084693, 0.15544319321960068, 0.10362879547973379, 0.051814397739866895, 0.051814397739866895, 0.5748264214957496, 0.22022570693668328, 0.10451389481740903, 0.06718750381119151, 0.026128473704352256, 0.007465278201243502, 0.45698171183760605, 0.36558536947008485, 0.09139634236752121, 0.09139634236752121, 0.42704854352190563, 0.17081941740876225, 0.25622912611314336, 0.08540970870438112, 0.08540970870438112, 0.5738246619118172, 0.22187886927256933, 0.09181194590589076, 0.06885895942941807, 0.03060398196863025, 0.007650995492157563, 0.6466094613711998, 0.17348058719715118, 0.07885481236234144, 0.047312887417404866, 0.03154192494493658, 0.5594377093122459, 0.15703514647361289, 0.13740575316441128, 0.10796166320060886, 0.029444089963802416, 0.009814696654600805, 0.5923564231954578, 0.18922496852077125, 0.0987260705325763, 0.08227172544381359, 0.032908690177525436, 0.008227172544381359, 0.3576076228791419, 0.3576076228791419, 0.4647820943660976, 0.1549273647886992, 0.1549273647886992, 0.0774636823943496, 0.0774636823943496, 0.4384177906479456, 0.4384177906479456, 0.33104770070662703, 0.33104770070662703, 0.33104770070662703, 0.48810157156426576, 0.2599671413766198, 0.11671994102623746, 0.08488722983726361, 0.03713816305380283, 0.010610903729657952, 0.4482259646653535, 0.253994713310367, 0.14940865488845118, 0.0896451929330707, 0.04482259646653535, 0.014940865488845117, 0.4591340653101565, 0.22956703265507825, 0.22956703265507825, 0.5975710362766216, 0.1878080399726525, 0.08536729089666022, 0.06829383271732818, 0.03414691635866409, 0.017073458179332045, 0.4427201606136265, 0.22136008030681326, 0.22136008030681326, 0.7116197142706879, 0.10919032652830661, 0.09412959183474708, 0.04894738775406848, 0.030121469387119067, 0.007530367346779767, 0.6205259080643298, 0.3102629540321649, 0.4571956371607226, 0.18287825486428902, 0.2133579640083372, 0.09143912743214451, 0.06095941828809635, 0.5723262177495572, 0.2861631088747786, 0.2861631088747786, 0.5129330077501335, 0.23770066212811064, 0.11259505048173661, 0.08757392815246182, 0.037531683493912206, 0.0125105611646374, 0.5499021145616121, 0.23567233481211947, 0.1571148898747463, 0.07855744493737316, 0.07855744493737316, 0.3424688708183169, 0.17123443540915845, 0.3424688708183169, 0.5223152568365012, 0.2611576284182506, 0.2611576284182506, 0.740231333046304, 0.24674377768210132, 0.47539216601860745, 0.1957497154194266, 0.1957497154194266, 0.08389273517975426, 0.05592849011983617, 0.5601592495027344, 0.1867197498342448, 0.1867197498342448, 0.533983852040526, 0.177994617346842, 0.266991926020263, 0.088997308673421, 0.45241617549814606, 0.22620808774907303, 0.22620808774907303, 0.41122157185422703, 0.41122157185422703, 0.5456050778119146, 0.25461570297889347, 0.09699645827767371, 0.06062278642354607, 0.03637367185412764, 0.012124557284709214, 0.595440661326473, 0.2977203306632365, 0.46516491169233054, 0.34887368376924793, 0.11629122792308264, 0.11629122792308264, 0.5643323605347997, 0.11286647210695995, 0.11286647210695995, 0.11286647210695995, 0.5461216333652977, 0.19858968486010828, 0.1489422636450812, 0.09929484243005414, 0.04964742121502707, 0.5561821806973588, 0.20224806570813048, 0.10112403285406524, 0.10112403285406524, 0.05056201642703262, 0.5786822200473773, 0.19289407334912576, 0.19289407334912576, 0.19289407334912576, 0.5167860757044064, 0.20476429414702893, 0.1365095294313526, 0.07800544538934436, 0.04875340336834022, 0.009750680673668044, 0.44845138278362695, 0.3556683380697731, 0.09278304471385385, 0.07731920392821154, 0.03092768157128462, 0.5657724101604977, 0.2459880044176077, 0.09839520176704308, 0.06149700110440193, 0.036898200662641156, 0.012299400220880385, 0.5279378639900997, 0.18811579061716194, 0.14563803144554474, 0.09102376965346545, 0.036409507861386185, 0.00606825131023103, 0.6475768791660869, 0.17374013831285257, 0.07897279014220572, 0.06317823211376457, 0.031589116056882284, 0.007897279014220571, 0.5484897033682911, 0.22438215137793727, 0.09972540061241655, 0.07479405045931242, 0.02493135015310414, 0.02493135015310414, 0.5842342667230073, 0.16818865254147178, 0.12392848082003184, 0.08852034344287989, 0.035408137377151955, 0.008852034344287989, 0.5447775281370068, 0.2434112359761094, 0.09272808989566073, 0.08113707865870314, 0.02318202247391518, 0.01159101123695759, 0.56488952546929, 0.17783559135144317, 0.12553100565984224, 0.07322641996824131, 0.05230458569160093, 0.010460917138320187, 0.5585819085333137, 0.17361329589548938, 0.14341967921801296, 0.07548404169369104, 0.03774202084684552, 0.007548404169369103, 0.5084962234225694, 0.19646444995871998, 0.16179425290718116, 0.07511876027833411, 0.04622692940205176, 0.01155673235051294, 0.633012034236714, 0.16352810884448446, 0.105502005706119, 0.0633012034236714, 0.02637550142652975, 0.0105502005706119, 0.3489231119145666, 0.3489231119145666, 0.3489231119145666, 0.5016828194631014, 0.20067312778524057, 0.16304691632550797, 0.07525242291946521, 0.037626211459732606, 0.012542070486577536, 0.6331819780390253, 0.31659098901951266, 0.6433405198901246, 0.16602335997164505, 0.08301167998582253, 0.0622587599893669, 0.03458819999409272, 0.006917639998818544, 0.4916770151808164, 0.2458385075904082, 0.1319133455363166, 0.07195273392889996, 0.04197242812519164, 0.011992122321483327, 0.5973433993583586, 0.17066954267381673, 0.1194686798716717, 0.06826781706952668, 0.03413390853476334, 0.01706695426738167, 0.5827251387727396, 0.20201138144121636, 0.0776966851696986, 0.09323602220363833, 0.0388483425848493, 0.0077696685169698606, 0.4322098709912088, 0.2881399139941392, 0.1440699569970696, 0.1440699569970696, 0.6373410835387575, 0.1850345081241554, 0.08223755916629129, 0.06167816937471846, 0.020559389791572822, 0.006853129930524273, 0.4648787120292177, 0.26564497830241013, 0.13282248915120506, 0.06641124457560253, 0.06641124457560253, 0.4812990224969834, 0.32086601499798895, 0.16043300749899447, 0.511167927207279, 0.200022232385457, 0.133348154923638, 0.11112346243636499, 0.044449384974545994, 0.5952010479069103, 0.23808041916276412, 0.11904020958138206, 0.11904020958138206, 0.44818079332738237, 0.1493935977757941, 0.1493935977757941, 0.1493935977757941, 0.5117900545034284, 0.2193385947871836, 0.1462257298581224, 0.1096692973935918, 0.0365564324645306, 0.5105146858330861, 0.17525131006210418, 0.16001206570887772, 0.0914354661193587, 0.04571773305967935, 0.007619622176613225, 0.5802520204865956, 0.1740756061459787, 0.11605040409731913, 0.11605040409731913, 0.42280757442272143, 0.545596593225226, 0.20344279747381308, 0.13871099827759983, 0.07397919908138657, 0.027742199655519967, 0.009247399885173322, 0.6001612027178231, 0.1859654430956635, 0.10143569623399827, 0.07607677217549871, 0.025358924058499568, 0.008452974686166523, 0.5713626809290948, 0.17580390182433686, 0.08790195091216843, 0.08790195091216843, 0.043950975456084215, 0.5151494847314001, 0.2239780368397392, 0.12692088754251887, 0.07465934561324639, 0.04479560736794783, 0.007465934561324639, 0.542313077458353, 0.2169252309833412, 0.13557826936458825, 0.0542313077458353, 0.0542313077458353, 0.4028057484696894, 0.4028057484696894, 0.2014028742348447, 0.6359070314861658, 0.3179535157430829, 0.49339988692506953, 0.28194279252861115, 0.07048569813215279, 0.07048569813215279, 0.5669812022924893, 0.21806969318941893, 0.1163038363676901, 0.06542090795682569, 0.021806969318941893, 0.007268989772980631, 0.5385144953311958, 0.15386128438034166, 0.07693064219017083, 0.07693064219017083, 0.4324274621959853, 0.2358695248341738, 0.15724634988944922, 0.09827896868090576, 0.05896738120854345, 0.019655793736181152, 0.6188161465250137, 0.1583018049250035, 0.10073751222500223, 0.08634643905000192, 0.028782146350000638, 0.007195536587500159, 0.5467792763660547, 0.1822597587886849, 0.12150650585912326, 0.12150650585912326, 0.06075325292956163, 0.5469825013811028, 0.23595323588988748, 0.10725147085903976, 0.06435088251542385, 0.03217544125771193, 0.010725147085903976, 0.588060740044321, 0.17752777057941765, 0.08876388528970883, 0.08876388528970883, 0.044381942644854414, 0.011095485661213603, 0.5988178770930823, 0.18444601277550637, 0.10359296607939399, 0.06569310044059132, 0.03789986563880268, 0.010106630837014048, 0.5186334378118904, 0.20745337512475617, 0.1555900313435671, 0.10372668756237809, 0.05186334378118904, 0.5863542335750512, 0.1465885583937628, 0.12403647248703006, 0.09020834362693095, 0.045104171813465474, 0.011276042953366368, 0.5204189341542026, 0.22943200322927212, 0.11751395287352963, 0.089534440284594, 0.03917131762450987, 0.005595902517787125, 0.5373034333861291, 0.24422883335733142, 0.09769153334293257, 0.07326865000719943, 0.024422883335733142, 0.012211441667866571], \"Term\": [\"'all\", \"'all\", \"'all\", \"'all\", \"'animal',\", \"'animal',\", \"'animal',\", \"'being\", \"'being\", \"'experience,'\", \"'great'\", \"'great'\", \"'great'\", \"'man'\", \"'man'\", \"'man'\", \"'man'\", \"'man',\", \"'man',\", \"'man',\", \"'not\", \"'not\", \"'not\", \"'not\", \"'positives'\", \"'positives'\", \"'positives'\", \"'positives'\", \"'prior'\", \"'prior'\", \"'prior'\", \"'privatives'\", \"'privatives'\", \"'privatives'\", \"'ruddered'\", \"'ruddered'\", \"'ruddered'\", \"'simultaneous'\", \"'simultaneous'\", \"'simultaneous'\", \"'socrates\", \"'socrates\", \"'socrates\", \"'terrestrial'\", \"'terrestrial'\", \"'terrestrial'\", \"'three\", \"'three\", \"'three\", \"(both\", \"(both\", \"1.e.\", \"1.e.\", \"1.e.\", \"access\", \"access\", \"access\", \"access\", \"access\", \"accurately,\", \"accurately,\", \"action;\", \"action;\", \"affections,\", \"affections,\", \"affections,\", \"again,\", \"again,\", \"again,\", \"again,\", \"again,\", \"again,\", \"agent\", \"agent\", \"agent\", \"agent\", \"agent\", \"al\", \"al\", \"also\", \"also\", \"also\", \"also\", \"also\", \"also\", \"alternation\", \"alternation\", \"alternation\", \"alternation\", \"always\", \"always\", \"always\", \"always\", \"always\", \"always\", \"ancient\", \"ancient\", \"ancient\", \"ancient\", \"ancient\", \"another\", \"another\", \"another\", \"another\", \"another\", \"another\", \"answer\", \"answer\", \"answer\", \"answer\", \"answer\", \"answer\", \"answered,\", \"answered,\", \"anything\", \"anything\", \"anything\", \"anything\", \"anything\", \"anything\", \"anywhere,\", \"anywhere,\", \"argument\", \"argument\", \"argument\", \"argument\", \"argument\", \"argument\", \"arrives\", \"arrives\", \"ashamed\", \"ashamed\", \"ashamed\", \"ask\", \"ask\", \"ask\", \"ask\", \"ask\", \"associated\", \"associated\", \"associated\", \"associated\", \"associated\", \"attendant\", \"attendant\", \"attendant\", \"attitudes,\", \"attitudes,\", \"attitudes.\", \"away\", \"away\", \"away\", \"away\", \"away\", \"away\", \"badness\", \"be,\", \"be,\", \"be,\", \"be,\", \"be,\", \"beautiful\", \"beautiful\", \"beautiful\", \"beautiful\", \"become\", \"become\", \"become\", \"become\", \"become\", \"become\", \"been,\", \"been,\", \"been,\", \"being,\", \"being,\", \"being,\", \"being,\", \"believe\", \"believe\", \"believe\", \"believe\", \"believe\", \"bitterness,\", \"blackness,\", \"blind,\", \"blind,\", \"blind,\", \"body\", \"body\", \"body\", \"body\", \"body\", \"body\", \"both,\", \"both,\", \"both,\", \"both,\", \"boundary\", \"boundary\", \"boundary\", \"called\", \"called\", \"called\", \"called\", \"called\", \"called\", \"cancel\", \"cancel\", \"cannot\", \"cannot\", \"cannot\", \"cannot\", \"cannot\", \"cannot\", \"case\", \"case\", \"case\", \"case\", \"case\", \"case\", \"category\", \"category\", \"category\", \"category\", \"cause\", \"cause\", \"cause\", \"cause\", \"cause\", \"charge\", \"charge\", \"charge\", \"charge\", \"charge\", \"class\", \"class\", \"class\", \"class\", \"class\", \"classed\", \"classed\", \"classed\", \"clearly\", \"clearly\", \"clearly\", \"clearly\", \"co-exist\", \"co-exist\", \"come\", \"come\", \"come\", \"come\", \"come\", \"come\", \"common\", \"common\", \"common\", \"common\", \"common\", \"common\", \"complexion\", \"concealed\", \"concealed\", \"contraries\", \"contraries\", \"contraries\", \"contraries\", \"contraries\", \"contraries.\", \"contraries.\", \"contraries.\", \"contrary\", \"contrary\", \"contrary\", \"contrary\", \"contrary\", \"contrary\", \"correlative\", \"correlative\", \"correlative\", \"correlative\", \"correlatives\", \"correlatives\", \"correlatives\", \"correlatives:\", \"could\", \"could\", \"could\", \"could\", \"could\", \"could\", \"crito\", \"crito\", \"crito\", \"crito\", \"crito\", \"death\", \"death\", \"death\", \"death\", \"death\", \"death\", \"defined\", \"defined\", \"defined\", \"defined\", \"defined\", \"definition\", \"definition\", \"definition\", \"definition\", \"definition\", \"definition\", \"degree.\", \"degree.\", \"degree.\", \"degree.\", \"dialogue.\", \"dialogue.\", \"dialogue.\", \"dialogue.\", \"differentia\", \"differentia\", \"differentia\", \"disposition\", \"disposition\", \"disposition\", \"disposition,\", \"disposition,\", \"disposition,\", \"distinctions.\", \"distinctions.\", \"divination\", \"doctrine\", \"doctrine\", \"doctrine\", \"doctrine\", \"doctrine\", \"doctrine\", \"dying\", \"dying\", \"dying\", \"each,\", \"each,\", \"each,\", \"earth,\", \"earth,\", \"earth,\", \"earth,\", \"earth,\", \"echecrates:\", \"echecrates:\", \"echecrates:\", \"echecrates:\", \"echecrates:\", \"either\", \"either\", \"either\", \"either\", \"either\", \"either\", \"eliciting\", \"eliciting\", \"else\", \"else\", \"else\", \"else\", \"else\", \"enable\", \"enable\", \"enumerated.\", \"ethical\", \"ethical\", \"ethical\", \"every\", \"every\", \"every\", \"every\", \"every\", \"every\", \"evil\", \"evil\", \"evil\", \"evil\", \"evil\", \"exercised\", \"exercised\", \"exercised\", \"exercised\", \"exist\", \"exist\", \"exist\", \"exist\", \"exist\", \"existence\", \"existence\", \"existence\", \"existence\", \"existence\", \"existence\", \"exists\", \"exists\", \"exists\", \"exists\", \"exists\", \"exists,\", \"exists,\", \"exists,\", \"exists,\", \"external.\", \"external.\", \"eye;\", \"eye;\", \"eyes,\", \"eyes,\", \"eyes,\", \"eyes,\", \"fact\", \"fact\", \"fact\", \"fact\", \"fact\", \"false\", \"false\", \"false\", \"false\", \"false\", \"fears,\", \"fears,\", \"fears,\", \"fever\", \"fever\", \"figure\", \"figure\", \"figure\", \"figure\", \"figure\", \"fire,\", \"fire,\", \"fire,\", \"fire,\", \"firmly\", \"firmly\", \"first\", \"first\", \"first\", \"first\", \"first\", \"first\", \"five\", \"five\", \"five\", \"five\", \"fives\", \"fives\", \"form\", \"form\", \"form\", \"form\", \"form\", \"form\", \"forward\", \"forward\", \"four\", \"four\", \"four\", \"four\", \"four\", \"genera,\", \"genera,\", \"genera,\", \"genus\", \"genus\", \"genus\", \"genus\", \"genus\", \"given\", \"given\", \"given\", \"given\", \"given\", \"given\", \"glasses\", \"glasses\", \"glyn\", \"god.\", \"god.\", \"god.\", \"god.\", \"good\", \"good\", \"good\", \"good\", \"good\", \"good\", \"good?\", \"good?\", \"good?\", \"good?\", \"great\", \"great\", \"great\", \"great\", \"great\", \"great\", \"greater\", \"greater\", \"greater\", \"greater\", \"greater\", \"greater\", \"habits\", \"habits\", \"habits\", \"harmonious\", \"harmonious\", \"harmony\", \"harmony\", \"harmony\", \"harmony\", \"harmony\", \"harmony,\", \"harmony,\", \"harmony,\", \"harmony,\", \"harmony,\", \"head\", \"head\", \"head\", \"head\", \"head\", \"head.\", \"hear\", \"hear\", \"hear\", \"hear\", \"hear\", \"heat\", \"heat\", \"heat\", \"heat\", \"heat\", \"her,\", \"her,\", \"her,\", \"her,\", \"him,\", \"him,\", \"him,\", \"him,\", \"him,\", \"him,\", \"him?\", \"him?\", \"him?\", \"him?\", \"him?\", \"honesty,\", \"honesty,\", \"house.\", \"house.\", \"hurtful\", \"hurtful\", \"idea\", \"idea\", \"idea\", \"idea\", \"idea\", \"ideas\", \"ideas\", \"ideas\", \"ideas\", \"ideas\", \"ideas\", \"imagination,\", \"imagination,\", \"imagination,\", \"immortality\", \"immortality\", \"immortality\", \"immortality\", \"immortality\", \"indicate\", \"indicate\", \"indicate\", \"indicate\", \"individual\", \"individual\", \"individual\", \"individual\", \"individual\", \"individual\", \"inspired\", \"inspired\", \"inspired\", \"inspired\", \"intermediate.\", \"intermediate.\", \"intermediate.\", \"internal\", \"internal\", \"internal\", \"internal\", \"interrogate\", \"interrogate\", \"join.\", \"join.\", \"join.\", \"justice\", \"justice\", \"justice\", \"justice\", \"justice\", \"justice,\", \"justice,\", \"justice,\", \"justice,\", \"justly,\", \"know\", \"know\", \"know\", \"know\", \"know\", \"know\", \"knowledge\", \"knowledge\", \"knowledge\", \"knowledge\", \"knowledge\", \"knowledge\", \"knowledge,\", \"knowledge,\", \"knowledge,\", \"knowledge,\", \"knowledge,\", \"knowledge,\", \"laid\", \"laid\", \"laid\", \"laid\", \"lest\", \"lest\", \"lest\", \"lest\", \"let\", \"let\", \"let\", \"let\", \"let\", \"let\", \"liability\", \"liability\", \"liability\", \"life\", \"life\", \"life\", \"life\", \"life\", \"life\", \"like\", \"like\", \"like\", \"like\", \"like\", \"like\", \"likely,\", \"likely,\", \"likely,\", \"line?\", \"line?\", \"look\", \"look\", \"look\", \"look\", \"look\", \"make\", \"make\", \"make\", \"make\", \"make\", \"make\", \"man\", \"man\", \"man\", \"man\", \"man\", \"man\", \"many\", \"many\", \"many\", \"many\", \"many\", \"many\", \"means.\", \"means.\", \"means.\", \"men\", \"men\", \"men\", \"men\", \"men\", \"men\", \"meno\", \"meno\", \"meno\", \"meno\", \"meno\", \"merely\", \"merely\", \"merely\", \"merely\", \"merely\", \"mind\", \"mind\", \"mind\", \"mind\", \"mind\", \"mind\", \"miserable\", \"miserable\", \"miserable\", \"modification\", \"modification\", \"modification\", \"must\", \"must\", \"must\", \"must\", \"must\", \"must\", \"mythology,\", \"mythology,\", \"mythology,\", \"mythology,\", \"nature\", \"nature\", \"nature\", \"nature\", \"nature\", \"nature\", \"necessitates\", \"neither\", \"neither\", \"neither\", \"neither\", \"neither\", \"neither\", \"non-existence\", \"non-existence\", \"non-existence\", \"not,\", \"not,\", \"not,\", \"not,\", \"not,\", \"not,\", \"not.\", \"not.\", \"not.\", \"not.\", \"not.\", \"number\", \"number\", \"number\", \"number\", \"number\", \"number\", \"numbers\", \"numbers\", \"numbers\", \"numbers\", \"observed\", \"observed\", \"observed\", \"observed\", \"observed\", \"old\", \"old\", \"old\", \"old\", \"old\", \"online\", \"online\", \"online\", \"online\", \"online\", \"opinion\", \"opinion\", \"opinion\", \"opinion\", \"opinion\", \"opinion\", \"order\", \"order\", \"order\", \"order\", \"order\", \"pain\", \"pain\", \"pain\", \"pair\", \"pair\", \"pair\", \"part\", \"part\", \"part\", \"part\", \"part\", \"part\", \"particular\", \"particular\", \"particular\", \"particular\", \"particular\", \"perceptible\", \"perceptible\", \"perceptible\", \"perceptible.\", \"perception\", \"perception\", \"perception\", \"perception\", \"perception\", \"perhaps\", \"perhaps\", \"perhaps\", \"perhaps\", \"perhaps\", \"perish\", \"perish\", \"perish\", \"perish\", \"person\", \"person\", \"person\", \"person\", \"person\", \"phaedo.)\", \"phaedo.)\", \"phenomenon\", \"phenomenon\", \"phenomenon\", \"philosophy\", \"philosophy\", \"philosophy\", \"philosophy\", \"philosophy\", \"philosophy\", \"physical,\", \"physical,\", \"place\", \"place\", \"place\", \"place\", \"place\", \"place\", \"plain\", \"plain\", \"plain\", \"plain\", \"plato\", \"plato\", \"plato\", \"plato\", \"plato\", \"plato\", \"plato's\", \"plato's\", \"plato's\", \"plato's\", \"plato's\", \"plato,\", \"plato,\", \"plato,\", \"plato,\", \"plato,\", \"predicable\", \"predicable\", \"predicable\", \"predicable\", \"predicable\", \"predicated\", \"predicated\", \"predicated\", \"predicated\", \"predicated\", \"preposition\", \"preposition\", \"preposition\", \"present\", \"present\", \"present\", \"present\", \"present\", \"present\", \"priestesses,\", \"priests\", \"priests\", \"primary\", \"primary\", \"primary\", \"primary\", \"primary\", \"process\", \"process\", \"process\", \"process\", \"process\", \"proposition,\", \"proposition,\", \"proposition,\", \"proved\", \"proved\", \"proved\", \"proved\", \"proved\", \"punishments\", \"pure\", \"pure\", \"pure\", \"pure\", \"pure\", \"qualitative\", \"qualitative\", \"qualities\", \"qualities\", \"qualities\", \"qualities\", \"qualities\", \"qualities,\", \"qualities,\", \"qualities,\", \"qualities,\", \"qualities,\", \"qualities.\", \"qualities.\", \"qualities.\", \"qualities.\", \"qualities.\", \"quality\", \"quality\", \"quality\", \"quality\", \"quality\", \"quality,\", \"quality,\", \"quality,\", \"quality,\", \"quality,\", \"quantities\", \"quantities\", \"quantities\", \"rather\", \"rather\", \"rather\", \"rather\", \"rather\", \"rather\", \"readable\", \"readable\", \"readable\", \"readable\", \"receive\", \"receive\", \"receive\", \"receive\", \"receive\", \"reconcile\", \"reconcile\", \"reference\", \"reference\", \"reference\", \"reference\", \"reference\", \"refund\", \"refund\", \"refund\", \"refund\", \"refund\", \"regarded\", \"regarded\", \"regarded\", \"regarded\", \"regarded\", \"related\", \"related\", \"related\", \"relative\", \"relative\", \"relative\", \"relative\", \"relative\", \"relatives\", \"relatives\", \"relatives\", \"removed,\", \"removed,\", \"removed,\", \"replied\", \"replied\", \"replied\", \"replied\", \"replied\", \"reversed.\", \"reversed.\", \"reversed.\", \"right\", \"right\", \"right\", \"right\", \"right\", \"right\", \"said\", \"said\", \"said\", \"said\", \"said\", \"said\", \"said.\", \"said.\", \"said.\", \"said.\", \"said.\", \"say\", \"say\", \"say\", \"say\", \"say\", \"say\", \"sciences,\", \"sciences,\", \"sciences,\", \"sciences,\", \"secondary\", \"secondary\", \"secondary\", \"secondary\", \"secondary\", \"see\", \"see\", \"see\", \"see\", \"see\", \"see\", \"seem\", \"seem\", \"seem\", \"seem\", \"seem\", \"sense\", \"sense\", \"sense\", \"sense\", \"sense\", \"sense\", \"shall\", \"shall\", \"shall\", \"shall\", \"shall\", \"shall\", \"shameless\", \"shameless\", \"similarly\", \"similarly\", \"similarly\", \"similarly\", \"similarly\", \"sits',\", \"sits',\", \"slave'\", \"slave'\", \"slave'\", \"socrates,\", \"socrates,\", \"socrates,\", \"socrates,\", \"socrates,\", \"socrates,\", \"something\", \"something\", \"something\", \"something\", \"something\", \"something\", \"something.\", \"something.\", \"something.\", \"sort\", \"sort\", \"sort\", \"sort\", \"sort\", \"sort\", \"sort,\", \"sort,\", \"sort,\", \"soul\", \"soul\", \"soul\", \"soul\", \"soul\", \"soul\", \"spaces?\", \"spaces?\", \"species\", \"species\", \"species\", \"species\", \"species\", \"species.\", \"species.\", \"species.\", \"state\", \"state\", \"state\", \"state\", \"state\", \"state\", \"statements\", \"statements\", \"statements\", \"statements\", \"statements\", \"stating\", \"stating\", \"stating\", \"strictly\", \"strictly\", \"strictly\", \"strings,\", \"strings,\", \"substance\", \"substance\", \"substance\", \"substance\", \"substance\", \"substance.\", \"substance.\", \"substance.\", \"substances\", \"substances\", \"substances\", \"substances\", \"such.\", \"such.\", \"such.\", \"suited\", \"suited\", \"suppose\", \"suppose\", \"suppose\", \"suppose\", \"suppose\", \"suppose\", \"suspected\", \"suspected\", \"sweet\", \"sweet\", \"sweet\", \"sweet\", \"taught?\", \"taught?\", \"taught?\", \"taught?\", \"tax\", \"tax\", \"tax\", \"tax\", \"tax\", \"teachers\", \"teachers\", \"teachers\", \"teachers\", \"teachers\", \"teachers?\", \"teachers?\", \"teachers?\", \"teachers?\", \"terms\", \"terms\", \"terms\", \"terms\", \"terms\", \"terms\", \"theaetetus\", \"theaetetus\", \"theaetetus\", \"theaetetus\", \"theaetetus\", \"theaetetus,\", \"theaetetus,\", \"theaetetus,\", \"theaetetus,\", \"theaetetus,\", \"theaetetus,\", \"them,\", \"them,\", \"them,\", \"them,\", \"them,\", \"them,\", \"them.\", \"them.\", \"them.\", \"them.\", \"them.\", \"them.\", \"them;\", \"them;\", \"them;\", \"them;\", \"them;\", \"them;\", \"then,\", \"then,\", \"then,\", \"then,\", \"then,\", \"then,\", \"theodorus:\", \"theodorus:\", \"theodorus:\", \"theodorus:\", \"theodorus:\", \"theodorus:\", \"therefore\", \"therefore\", \"therefore\", \"therefore\", \"therefore\", \"therefore\", \"thing\", \"thing\", \"thing\", \"thing\", \"thing\", \"thing\", \"things\", \"things\", \"things\", \"things\", \"things\", \"things\", \"think\", \"think\", \"think\", \"think\", \"think\", \"think\", \"those,\", \"those,\", \"those,\", \"thus\", \"thus\", \"thus\", \"thus\", \"thus\", \"thus\", \"tie\", \"tie\", \"time\", \"time\", \"time\", \"time\", \"time\", \"time\", \"true\", \"true\", \"true\", \"true\", \"true\", \"true\", \"true,\", \"true,\", \"true,\", \"true,\", \"true,\", \"true,\", \"true.\", \"true.\", \"true.\", \"true.\", \"true.\", \"true.\", \"truly,\", \"truly,\", \"truly,\", \"truly,\", \"two\", \"two\", \"two\", \"two\", \"two\", \"two\", \"universal\", \"universal\", \"universal\", \"universal\", \"universal\", \"universals\", \"universals\", \"universals\", \"us,\", \"us,\", \"us,\", \"us,\", \"us,\", \"useful\", \"useful\", \"useful\", \"useful\", \"variance\", \"variance\", \"variance\", \"variance\", \"various\", \"various\", \"various\", \"various\", \"various\", \"virtue\", \"virtue\", \"virtue\", \"virtue\", \"virtue\", \"virtue\", \"virtue?\", \"virtue?\", \"virtue?\", \"virtue?\", \"want,\", \"way\", \"way\", \"way\", \"way\", \"way\", \"way\", \"well\", \"well\", \"well\", \"well\", \"well\", \"well\", \"whatever\", \"whatever\", \"whatever\", \"whatever\", \"whatever\", \"whether\", \"whether\", \"whether\", \"whether\", \"whether\", \"whether\", \"which,\", \"which,\", \"which,\", \"which,\", \"which,\", \"wider\", \"wider\", \"wider\", \"winged\", \"winged\", \"wiser\", \"wiser\", \"wiser\", \"wiser\", \"without\", \"without\", \"without\", \"without\", \"without\", \"without\", \"wonder\", \"wonder\", \"wonder\", \"wonder\", \"word\", \"word\", \"word\", \"word\", \"word\", \"word\", \"work\", \"work\", \"work\", \"work\", \"work\", \"work\", \"work.\", \"work.\", \"work.\", \"work.\", \"work.\", \"works\", \"works\", \"works\", \"works\", \"works\", \"works\", \"world\", \"world\", \"world\", \"world\", \"world\", \"world\", \"would\", \"would\", \"would\", \"would\", \"would\", \"would\", \"written\", \"written\", \"written\", \"written\", \"written\", \"yes,\", \"yes,\", \"yes,\", \"yes,\", \"yes,\", \"yes,\", \"yet\", \"yet\", \"yet\", \"yet\", \"yet\", \"yet\", \"you,\", \"you,\", \"you,\", \"you,\", \"you,\", \"you,\"]}, \"R\": 30, \"lambda.step\": 0.01, \"plot.opts\": {\"xlab\": \"PC1\", \"ylab\": \"PC2\"}, \"topic.order\": [2, 4, 6, 3, 7, 5, 1]};\n",
              "\n",
              "function LDAvis_load_lib(url, callback){\n",
              "  var s = document.createElement('script');\n",
              "  s.src = url;\n",
              "  s.async = true;\n",
              "  s.onreadystatechange = s.onload = callback;\n",
              "  s.onerror = function(){console.warn(\"failed to load library \" + url);};\n",
              "  document.getElementsByTagName(\"head\")[0].appendChild(s);\n",
              "}\n",
              "\n",
              "if(typeof(LDAvis) !== \"undefined\"){\n",
              "   // already loaded: just create the visualization\n",
              "   !function(LDAvis){\n",
              "       new LDAvis(\"#\" + \"ldavis_el3521400693786478882326836621\", ldavis_el3521400693786478882326836621_data);\n",
              "   }(LDAvis);\n",
              "}else if(typeof define === \"function\" && define.amd){\n",
              "   // require.js is available: use it to load d3/LDAvis\n",
              "   require.config({paths: {d3: \"https://d3js.org/d3.v5\"}});\n",
              "   require([\"d3\"], function(d3){\n",
              "      window.d3 = d3;\n",
              "      LDAvis_load_lib(\"https://cdn.jsdelivr.net/gh/bmabey/pyLDAvis@3.3.1/pyLDAvis/js/ldavis.v3.0.0.js\", function(){\n",
              "        new LDAvis(\"#\" + \"ldavis_el3521400693786478882326836621\", ldavis_el3521400693786478882326836621_data);\n",
              "      });\n",
              "    });\n",
              "}else{\n",
              "    // require.js not available: dynamically load d3 & LDAvis\n",
              "    LDAvis_load_lib(\"https://d3js.org/d3.v5.js\", function(){\n",
              "         LDAvis_load_lib(\"https://cdn.jsdelivr.net/gh/bmabey/pyLDAvis@3.3.1/pyLDAvis/js/ldavis.v3.0.0.js\", function(){\n",
              "                 new LDAvis(\"#\" + \"ldavis_el3521400693786478882326836621\", ldavis_el3521400693786478882326836621_data);\n",
              "            })\n",
              "         });\n",
              "}\n",
              "</script>"
            ],
            "text/plain": [
              "PreparedData(topic_coordinates=              x         y  topics  cluster       Freq\n",
              "topic                                                \n",
              "1     -0.002288  0.002994       1        1  56.068278\n",
              "3     -0.003474 -0.003232       2        1  20.134576\n",
              "5      0.004060 -0.001386       3        1  11.733309\n",
              "2     -0.002005  0.000348       4        1   7.478277\n",
              "6      0.001776  0.001221       5        1   3.612774\n",
              "4      0.000813  0.000920       6        1   0.878535\n",
              "0      0.001118 -0.000866       7        1   0.094250, topic_info=           Term        Freq       Total Category  logprob  loglift\n",
              "4357      would  395.000000  395.000000  Default  30.0000  30.0000\n",
              "2399        man  275.000000  275.000000  Default  29.0000  29.0000\n",
              "2559       must  255.000000  255.000000  Default  28.0000  28.0000\n",
              "2227  knowledge  264.000000  264.000000  Default  27.0000  27.0000\n",
              "3668       soul  265.000000  265.000000  Default  26.0000  26.0000\n",
              "...         ...         ...         ...      ...      ...      ...\n",
              "2223       know    0.185411  282.263647   Topic7  -5.7460  -0.3610\n",
              "3437       said    0.156667  210.019911   Topic7  -5.9145  -0.2339\n",
              "2592     nature    0.134200  152.860922   Topic7  -6.0693  -0.0710\n",
              "3637  socrates,    0.130286  188.485359   Topic7  -6.0989  -0.3101\n",
              "3955      think    0.126149  189.569856   Topic7  -6.1312  -0.3481\n",
              "\n",
              "[609 rows x 6 columns], token_table=      Topic      Freq       Term\n",
              "term                            \n",
              "4399      1  0.438193       'all\n",
              "4399      2  0.292129       'all\n",
              "4399      3  0.146064       'all\n",
              "4399      4  0.146064       'all\n",
              "6333      1  0.431329  'animal',\n",
              "...     ...       ...        ...\n",
              "4382      2  0.244229       you,\n",
              "4382      3  0.097692       you,\n",
              "4382      4  0.073269       you,\n",
              "4382      5  0.024423       you,\n",
              "4382      6  0.012211       you,\n",
              "\n",
              "[1438 rows x 3 columns], R=30, lambda_step=0.01, plot_opts={'xlab': 'PC1', 'ylab': 'PC2'}, topic_order=[2, 4, 6, 3, 7, 5, 1])"
            ]
          },
          "metadata": {
            "tags": []
          },
          "execution_count": 76
        }
      ]
    },
    {
      "cell_type": "code",
      "metadata": {
        "id": "3iAxTjUpTRCJ"
      },
      "source": [
        ""
      ],
      "execution_count": null,
      "outputs": []
    }
  ]
}